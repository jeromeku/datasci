{
 "metadata": {
  "name": ""
 },
 "nbformat": 3,
 "nbformat_minor": 0,
 "worksheets": [
  {
   "cells": [
    {
     "cell_type": "code",
     "collapsed": false,
     "input": [
      "%pylab inline\n",
      "import numpy as np\n",
      "import scipy\n",
      "import pandas as pd\n",
      "pd.options.display.mpl_style = 'default'"
     ],
     "language": "python",
     "metadata": {},
     "outputs": [
      {
       "output_type": "stream",
       "stream": "stdout",
       "text": [
        "Populating the interactive namespace from numpy and matplotlib\n"
       ]
      }
     ],
     "prompt_number": 1
    },
    {
     "cell_type": "code",
     "collapsed": false,
     "input": [
      "names = ['Bob', 'Pete', 'Jim', 'Sarah', 'Jessica', 'Jacqueline']\n",
      "births = [1234, 432, 2345, 234, 8493, 23]\n",
      "sex = ['Male','Male','Male','Female','Female','Female']\n",
      "babies = zip(names, births, sex)\n",
      "babies"
     ],
     "language": "python",
     "metadata": {},
     "outputs": [
      {
       "metadata": {},
       "output_type": "pyout",
       "prompt_number": 2,
       "text": [
        "[('Bob', 1234, 'Male'),\n",
        " ('Pete', 432, 'Male'),\n",
        " ('Jim', 2345, 'Male'),\n",
        " ('Sarah', 234, 'Female'),\n",
        " ('Jessica', 8493, 'Female'),\n",
        " ('Jacqueline', 23, 'Female')]"
       ]
      }
     ],
     "prompt_number": 2
    },
    {
     "cell_type": "code",
     "collapsed": false,
     "input": [
      "df = pd.DataFrame(data = babies, columns = ['Names', 'Births','Sex'])\n",
      "df"
     ],
     "language": "python",
     "metadata": {},
     "outputs": [
      {
       "html": [
        "<div style=\"max-height:1000px;max-width:1500px;overflow:auto;\">\n",
        "<table border=\"1\" class=\"dataframe\">\n",
        "  <thead>\n",
        "    <tr style=\"text-align: right;\">\n",
        "      <th></th>\n",
        "      <th>Names</th>\n",
        "      <th>Births</th>\n",
        "      <th>Sex</th>\n",
        "    </tr>\n",
        "  </thead>\n",
        "  <tbody>\n",
        "    <tr>\n",
        "      <th>0</th>\n",
        "      <td>        Bob</td>\n",
        "      <td> 1234</td>\n",
        "      <td>   Male</td>\n",
        "    </tr>\n",
        "    <tr>\n",
        "      <th>1</th>\n",
        "      <td>       Pete</td>\n",
        "      <td>  432</td>\n",
        "      <td>   Male</td>\n",
        "    </tr>\n",
        "    <tr>\n",
        "      <th>2</th>\n",
        "      <td>        Jim</td>\n",
        "      <td> 2345</td>\n",
        "      <td>   Male</td>\n",
        "    </tr>\n",
        "    <tr>\n",
        "      <th>3</th>\n",
        "      <td>      Sarah</td>\n",
        "      <td>  234</td>\n",
        "      <td> Female</td>\n",
        "    </tr>\n",
        "    <tr>\n",
        "      <th>4</th>\n",
        "      <td>    Jessica</td>\n",
        "      <td> 8493</td>\n",
        "      <td> Female</td>\n",
        "    </tr>\n",
        "    <tr>\n",
        "      <th>5</th>\n",
        "      <td> Jacqueline</td>\n",
        "      <td>   23</td>\n",
        "      <td> Female</td>\n",
        "    </tr>\n",
        "  </tbody>\n",
        "</table>\n",
        "</div>"
       ],
       "metadata": {},
       "output_type": "pyout",
       "prompt_number": 21,
       "text": [
        "        Names  Births     Sex\n",
        "0         Bob    1234    Male\n",
        "1        Pete     432    Male\n",
        "2         Jim    2345    Male\n",
        "3       Sarah     234  Female\n",
        "4     Jessica    8493  Female\n",
        "5  Jacqueline      23  Female"
       ]
      }
     ],
     "prompt_number": 21
    },
    {
     "cell_type": "code",
     "collapsed": false,
     "input": [
      "df.describe()"
     ],
     "language": "python",
     "metadata": {},
     "outputs": [
      {
       "html": [
        "<div style=\"max-height:1000px;max-width:1500px;overflow:auto;\">\n",
        "<table border=\"1\" class=\"dataframe\">\n",
        "  <thead>\n",
        "    <tr style=\"text-align: right;\">\n",
        "      <th></th>\n",
        "      <th>Births</th>\n",
        "    </tr>\n",
        "  </thead>\n",
        "  <tbody>\n",
        "    <tr>\n",
        "      <th>count</th>\n",
        "      <td>    6.000000</td>\n",
        "    </tr>\n",
        "    <tr>\n",
        "      <th>mean</th>\n",
        "      <td> 2126.833333</td>\n",
        "    </tr>\n",
        "    <tr>\n",
        "      <th>std</th>\n",
        "      <td> 3232.776480</td>\n",
        "    </tr>\n",
        "    <tr>\n",
        "      <th>min</th>\n",
        "      <td>   23.000000</td>\n",
        "    </tr>\n",
        "    <tr>\n",
        "      <th>25%</th>\n",
        "      <td>  283.500000</td>\n",
        "    </tr>\n",
        "    <tr>\n",
        "      <th>50%</th>\n",
        "      <td>  833.000000</td>\n",
        "    </tr>\n",
        "    <tr>\n",
        "      <th>75%</th>\n",
        "      <td> 2067.250000</td>\n",
        "    </tr>\n",
        "    <tr>\n",
        "      <th>max</th>\n",
        "      <td> 8493.000000</td>\n",
        "    </tr>\n",
        "  </tbody>\n",
        "</table>\n",
        "</div>"
       ],
       "metadata": {},
       "output_type": "pyout",
       "prompt_number": 4,
       "text": [
        "            Births\n",
        "count     6.000000\n",
        "mean   2126.833333\n",
        "std    3232.776480\n",
        "min      23.000000\n",
        "25%     283.500000\n",
        "50%     833.000000\n",
        "75%    2067.250000\n",
        "max    8493.000000"
       ]
      }
     ],
     "prompt_number": 4
    },
    {
     "cell_type": "code",
     "collapsed": false,
     "input": [
      "df.info()"
     ],
     "language": "python",
     "metadata": {},
     "outputs": [
      {
       "output_type": "stream",
       "stream": "stdout",
       "text": [
        "<class 'pandas.core.frame.DataFrame'>\n",
        "Int64Index: 6 entries, 0 to 5\n",
        "Data columns (total 3 columns):\n",
        "Names     6  non-null values\n",
        "Births    6  non-null values\n",
        "Sex       6  non-null values\n",
        "dtypes: int64(1), object(2)"
       ]
      }
     ],
     "prompt_number": 5
    },
    {
     "cell_type": "code",
     "collapsed": false,
     "input": [
      "df.sort('Births', ascending=False)"
     ],
     "language": "python",
     "metadata": {},
     "outputs": [
      {
       "html": [
        "<div style=\"max-height:1000px;max-width:1500px;overflow:auto;\">\n",
        "<table border=\"1\" class=\"dataframe\">\n",
        "  <thead>\n",
        "    <tr style=\"text-align: right;\">\n",
        "      <th></th>\n",
        "      <th>Names</th>\n",
        "      <th>Births</th>\n",
        "      <th>Sex</th>\n",
        "    </tr>\n",
        "  </thead>\n",
        "  <tbody>\n",
        "    <tr>\n",
        "      <th>4</th>\n",
        "      <td>    Jessica</td>\n",
        "      <td> 8493</td>\n",
        "      <td> Female</td>\n",
        "    </tr>\n",
        "    <tr>\n",
        "      <th>2</th>\n",
        "      <td>        Jim</td>\n",
        "      <td> 2345</td>\n",
        "      <td>   Male</td>\n",
        "    </tr>\n",
        "    <tr>\n",
        "      <th>0</th>\n",
        "      <td>        Bob</td>\n",
        "      <td> 1234</td>\n",
        "      <td>   Male</td>\n",
        "    </tr>\n",
        "    <tr>\n",
        "      <th>1</th>\n",
        "      <td>       Pete</td>\n",
        "      <td>  432</td>\n",
        "      <td>   Male</td>\n",
        "    </tr>\n",
        "    <tr>\n",
        "      <th>3</th>\n",
        "      <td>      Sarah</td>\n",
        "      <td>  234</td>\n",
        "      <td> Female</td>\n",
        "    </tr>\n",
        "    <tr>\n",
        "      <th>5</th>\n",
        "      <td> Jacqueline</td>\n",
        "      <td>   23</td>\n",
        "      <td> Female</td>\n",
        "    </tr>\n",
        "  </tbody>\n",
        "</table>\n",
        "</div>"
       ],
       "metadata": {},
       "output_type": "pyout",
       "prompt_number": 6,
       "text": [
        "        Names  Births     Sex\n",
        "4     Jessica    8493  Female\n",
        "2         Jim    2345    Male\n",
        "0         Bob    1234    Male\n",
        "1        Pete     432    Male\n",
        "3       Sarah     234  Female\n",
        "5  Jacqueline      23  Female"
       ]
      }
     ],
     "prompt_number": 6
    },
    {
     "cell_type": "code",
     "collapsed": false,
     "input": [
      "df[['Names','Births']].set_index('Names').sort('Births', ascending=False).plot(kind='bar')"
     ],
     "language": "python",
     "metadata": {},
     "outputs": [
      {
       "metadata": {},
       "output_type": "pyout",
       "prompt_number": 7,
       "text": [
        "<matplotlib.axes.AxesSubplot at 0x11106cb90>"
       ]
      },
      {
       "metadata": {},
       "output_type": "display_data",
       "png": "[encoded data removed]",
       "text": [
        "<matplotlib.figure.Figure at 0x11106c590>"
       ]
      }
     ],
     "prompt_number": 7
    },
    {
     "cell_type": "code",
     "collapsed": false,
     "input": [
      "np.sqrt(df['Births'])"
     ],
     "language": "python",
     "metadata": {},
     "outputs": [
      {
       "metadata": {},
       "output_type": "pyout",
       "prompt_number": 11,
       "text": [
        "0    35.128336\n",
        "1    20.784610\n",
        "2    48.425200\n",
        "3    15.297059\n",
        "4    92.157474\n",
        "5     4.795832\n",
        "Name: Births, dtype: float64"
       ]
      }
     ],
     "prompt_number": 11
    },
    {
     "cell_type": "code",
     "collapsed": false,
     "input": [
      "df[['Births', 'sqrtBirths']].apply(np.sqrt)"
     ],
     "language": "python",
     "metadata": {},
     "outputs": [
      {
       "html": [
        "<div style=\"max-height:1000px;max-width:1500px;overflow:auto;\">\n",
        "<table border=\"1\" class=\"dataframe\">\n",
        "  <thead>\n",
        "    <tr style=\"text-align: right;\">\n",
        "      <th></th>\n",
        "      <th>Births</th>\n",
        "      <th>sqrtBirths</th>\n",
        "    </tr>\n",
        "  </thead>\n",
        "  <tbody>\n",
        "    <tr>\n",
        "      <th>0</th>\n",
        "      <td> 35.128336</td>\n",
        "      <td> 5.926916</td>\n",
        "    </tr>\n",
        "    <tr>\n",
        "      <th>1</th>\n",
        "      <td> 20.784610</td>\n",
        "      <td> 4.559014</td>\n",
        "    </tr>\n",
        "    <tr>\n",
        "      <th>2</th>\n",
        "      <td> 48.425200</td>\n",
        "      <td> 6.958822</td>\n",
        "    </tr>\n",
        "    <tr>\n",
        "      <th>3</th>\n",
        "      <td> 15.297059</td>\n",
        "      <td> 3.911145</td>\n",
        "    </tr>\n",
        "    <tr>\n",
        "      <th>4</th>\n",
        "      <td> 92.157474</td>\n",
        "      <td> 9.599868</td>\n",
        "    </tr>\n",
        "    <tr>\n",
        "      <th>5</th>\n",
        "      <td>  4.795832</td>\n",
        "      <td> 2.189939</td>\n",
        "    </tr>\n",
        "  </tbody>\n",
        "</table>\n",
        "</div>"
       ],
       "metadata": {},
       "output_type": "pyout",
       "prompt_number": 17,
       "text": [
        "      Births  sqrtBirths\n",
        "0  35.128336    5.926916\n",
        "1  20.784610    4.559014\n",
        "2  48.425200    6.958822\n",
        "3  15.297059    3.911145\n",
        "4  92.157474    9.599868\n",
        "5   4.795832    2.189939"
       ]
      }
     ],
     "prompt_number": 17
    },
    {
     "cell_type": "code",
     "collapsed": false,
     "input": [
      "df"
     ],
     "language": "python",
     "metadata": {},
     "outputs": [
      {
       "html": [
        "<div style=\"max-height:1000px;max-width:1500px;overflow:auto;\">\n",
        "<table border=\"1\" class=\"dataframe\">\n",
        "  <thead>\n",
        "    <tr style=\"text-align: right;\">\n",
        "      <th></th>\n",
        "      <th>Names</th>\n",
        "      <th>Births</th>\n",
        "      <th>Sex</th>\n",
        "      <th>sqrtBirths</th>\n",
        "    </tr>\n",
        "  </thead>\n",
        "  <tbody>\n",
        "    <tr>\n",
        "      <th>0</th>\n",
        "      <td>        Bob</td>\n",
        "      <td> 1234</td>\n",
        "      <td>   Male</td>\n",
        "      <td> 35.128336</td>\n",
        "    </tr>\n",
        "    <tr>\n",
        "      <th>1</th>\n",
        "      <td>       Pete</td>\n",
        "      <td>  432</td>\n",
        "      <td>   Male</td>\n",
        "      <td> 20.784610</td>\n",
        "    </tr>\n",
        "    <tr>\n",
        "      <th>2</th>\n",
        "      <td>        Jim</td>\n",
        "      <td> 2345</td>\n",
        "      <td>   Male</td>\n",
        "      <td> 48.425200</td>\n",
        "    </tr>\n",
        "    <tr>\n",
        "      <th>3</th>\n",
        "      <td>      Sarah</td>\n",
        "      <td>  234</td>\n",
        "      <td> Female</td>\n",
        "      <td> 15.297059</td>\n",
        "    </tr>\n",
        "    <tr>\n",
        "      <th>4</th>\n",
        "      <td>    Jessica</td>\n",
        "      <td> 8493</td>\n",
        "      <td> Female</td>\n",
        "      <td> 92.157474</td>\n",
        "    </tr>\n",
        "    <tr>\n",
        "      <th>5</th>\n",
        "      <td> Jacqueline</td>\n",
        "      <td>   23</td>\n",
        "      <td> Female</td>\n",
        "      <td>  4.795832</td>\n",
        "    </tr>\n",
        "  </tbody>\n",
        "</table>\n",
        "</div>"
       ],
       "metadata": {},
       "output_type": "pyout",
       "prompt_number": 16,
       "text": [
        "        Names  Births     Sex  sqrtBirths\n",
        "0         Bob    1234    Male   35.128336\n",
        "1        Pete     432    Male   20.784610\n",
        "2         Jim    2345    Male   48.425200\n",
        "3       Sarah     234  Female   15.297059\n",
        "4     Jessica    8493  Female   92.157474\n",
        "5  Jacqueline      23  Female    4.795832"
       ]
      }
     ],
     "prompt_number": 16
    },
    {
     "cell_type": "code",
     "collapsed": false,
     "input": [
      "df['Births'].map(lambda x : np.sqrt(x))"
     ],
     "language": "python",
     "metadata": {},
     "outputs": [
      {
       "metadata": {},
       "output_type": "pyout",
       "prompt_number": 19,
       "text": [
        "0    35.128336\n",
        "1    20.784610\n",
        "2    48.425200\n",
        "3    15.297059\n",
        "4    92.157474\n",
        "5     4.795832\n",
        "Name: Births, dtype: float64"
       ]
      }
     ],
     "prompt_number": 19
    },
    {
     "cell_type": "code",
     "collapsed": false,
     "input": [
      "df.groupby('Sex').sum()*1.0 / df['Births'].sum()"
     ],
     "language": "python",
     "metadata": {},
     "outputs": [
      {
       "html": [
        "<div style=\"max-height:1000px;max-width:1500px;overflow:auto;\">\n",
        "<table border=\"1\" class=\"dataframe\">\n",
        "  <thead>\n",
        "    <tr style=\"text-align: right;\">\n",
        "      <th></th>\n",
        "      <th>Births</th>\n",
        "    </tr>\n",
        "    <tr>\n",
        "      <th>Sex</th>\n",
        "      <th></th>\n",
        "    </tr>\n",
        "  </thead>\n",
        "  <tbody>\n",
        "    <tr>\n",
        "      <th>Female</th>\n",
        "      <td> 0.685683</td>\n",
        "    </tr>\n",
        "    <tr>\n",
        "      <th>Male</th>\n",
        "      <td> 0.314317</td>\n",
        "    </tr>\n",
        "  </tbody>\n",
        "</table>\n",
        "</div>"
       ],
       "metadata": {},
       "output_type": "pyout",
       "prompt_number": 23,
       "text": [
        "          Births\n",
        "Sex             \n",
        "Female  0.685683\n",
        "Male    0.314317"
       ]
      }
     ],
     "prompt_number": 23
    },
    {
     "cell_type": "code",
     "collapsed": false,
     "input": [
      "s = pd.Series(np.random.randn(5), index=['a','b','c','d','e'])\n"
     ],
     "language": "python",
     "metadata": {},
     "outputs": [],
     "prompt_number": 24
    },
    {
     "cell_type": "code",
     "collapsed": false,
     "input": [
      "s.name = 'Some Data'\n"
     ],
     "language": "python",
     "metadata": {},
     "outputs": [],
     "prompt_number": 26
    },
    {
     "cell_type": "code",
     "collapsed": false,
     "input": [
      "s"
     ],
     "language": "python",
     "metadata": {},
     "outputs": [
      {
       "metadata": {},
       "output_type": "pyout",
       "prompt_number": 27,
       "text": [
        "a    1.162093\n",
        "b   -1.104148\n",
        "c   -0.507435\n",
        "d   -1.443123\n",
        "e    0.552098\n",
        "Name: Some Data, dtype: float64"
       ]
      }
     ],
     "prompt_number": 27
    },
    {
     "cell_type": "code",
     "collapsed": false,
     "input": [
      "d = {'a' : 0., 'b' : 1., 'c' : 2.}\n",
      "s2 = pd.Series(d)"
     ],
     "language": "python",
     "metadata": {},
     "outputs": [],
     "prompt_number": 28
    },
    {
     "cell_type": "code",
     "collapsed": false,
     "input": [
      "s2"
     ],
     "language": "python",
     "metadata": {},
     "outputs": [
      {
       "metadata": {},
       "output_type": "pyout",
       "prompt_number": 29,
       "text": [
        "a    0\n",
        "b    1\n",
        "c    2\n",
        "dtype: float64"
       ]
      }
     ],
     "prompt_number": 29
    },
    {
     "cell_type": "code",
     "collapsed": false,
     "input": [
      "s3 = pd.Series(5, index=[1,2,3,4,5])"
     ],
     "language": "python",
     "metadata": {},
     "outputs": [],
     "prompt_number": 30
    },
    {
     "cell_type": "code",
     "collapsed": false,
     "input": [
      "s3"
     ],
     "language": "python",
     "metadata": {},
     "outputs": [
      {
       "metadata": {},
       "output_type": "pyout",
       "prompt_number": 31,
       "text": [
        "1    5\n",
        "2    5\n",
        "3    5\n",
        "4    5\n",
        "5    5\n",
        "dtype: int64"
       ]
      }
     ],
     "prompt_number": 31
    },
    {
     "cell_type": "code",
     "collapsed": false,
     "input": [
      "s[0]"
     ],
     "language": "python",
     "metadata": {},
     "outputs": [
      {
       "metadata": {},
       "output_type": "pyout",
       "prompt_number": 32,
       "text": [
        "1.1620927154889822"
       ]
      }
     ],
     "prompt_number": 32
    },
    {
     "cell_type": "code",
     "collapsed": false,
     "input": [
      "s[['a']]"
     ],
     "language": "python",
     "metadata": {},
     "outputs": [
      {
       "metadata": {},
       "output_type": "pyout",
       "prompt_number": 33,
       "text": [
        "a    1.162093\n",
        "Name: Some Data, dtype: float64"
       ]
      }
     ],
     "prompt_number": 33
    },
    {
     "cell_type": "code",
     "collapsed": false,
     "input": [
      "s[[0,3]]"
     ],
     "language": "python",
     "metadata": {},
     "outputs": [
      {
       "metadata": {},
       "output_type": "pyout",
       "prompt_number": 34,
       "text": [
        "a    1.162093\n",
        "d   -1.443123\n",
        "Name: Some Data, dtype: float64"
       ]
      }
     ],
     "prompt_number": 34
    },
    {
     "cell_type": "code",
     "collapsed": false,
     "input": [
      "s[['a','e']]"
     ],
     "language": "python",
     "metadata": {},
     "outputs": [
      {
       "metadata": {},
       "output_type": "pyout",
       "prompt_number": 35,
       "text": [
        "a    1.162093\n",
        "e    0.552098\n",
        "Name: Some Data, dtype: float64"
       ]
      }
     ],
     "prompt_number": 35
    },
    {
     "cell_type": "code",
     "collapsed": false,
     "input": [
      "s[:3]"
     ],
     "language": "python",
     "metadata": {},
     "outputs": [
      {
       "metadata": {},
       "output_type": "pyout",
       "prompt_number": 36,
       "text": [
        "a    1.162093\n",
        "b   -1.104148\n",
        "c   -0.507435\n",
        "Name: Some Data, dtype: float64"
       ]
      }
     ],
     "prompt_number": 36
    },
    {
     "cell_type": "code",
     "collapsed": false,
     "input": [
      "d = {'s-one' : s, 's-two': s2}\n",
      "df = pd.DataFrame(d)\n",
      "df"
     ],
     "language": "python",
     "metadata": {},
     "outputs": [
      {
       "html": [
        "<div style=\"max-height:1000px;max-width:1500px;overflow:auto;\">\n",
        "<table border=\"1\" class=\"dataframe\">\n",
        "  <thead>\n",
        "    <tr style=\"text-align: right;\">\n",
        "      <th></th>\n",
        "      <th>s-one</th>\n",
        "      <th>s-two</th>\n",
        "    </tr>\n",
        "  </thead>\n",
        "  <tbody>\n",
        "    <tr>\n",
        "      <th>a</th>\n",
        "      <td> 1.162093</td>\n",
        "      <td>  0</td>\n",
        "    </tr>\n",
        "    <tr>\n",
        "      <th>b</th>\n",
        "      <td>-1.104148</td>\n",
        "      <td>  1</td>\n",
        "    </tr>\n",
        "    <tr>\n",
        "      <th>c</th>\n",
        "      <td>-0.507435</td>\n",
        "      <td>  2</td>\n",
        "    </tr>\n",
        "    <tr>\n",
        "      <th>d</th>\n",
        "      <td>-1.443123</td>\n",
        "      <td>NaN</td>\n",
        "    </tr>\n",
        "    <tr>\n",
        "      <th>e</th>\n",
        "      <td> 0.552098</td>\n",
        "      <td>NaN</td>\n",
        "    </tr>\n",
        "  </tbody>\n",
        "</table>\n",
        "</div>"
       ],
       "metadata": {},
       "output_type": "pyout",
       "prompt_number": 37,
       "text": [
        "      s-one  s-two\n",
        "a  1.162093      0\n",
        "b -1.104148      1\n",
        "c -0.507435      2\n",
        "d -1.443123    NaN\n",
        "e  0.552098    NaN"
       ]
      }
     ],
     "prompt_number": 37
    },
    {
     "cell_type": "code",
     "collapsed": false,
     "input": [
      "data = pd.read_csv('/Users/bgardner6/Dropbox/dev/introdatasci/311-service-requests.csv', parse_dates=['Created Date'])"
     ],
     "language": "python",
     "metadata": {},
     "outputs": [],
     "prompt_number": 38
    },
    {
     "cell_type": "code",
     "collapsed": false,
     "input": [
      "data.describe()"
     ],
     "language": "python",
     "metadata": {},
     "outputs": [
      {
       "html": [
        "<div style=\"max-height:1000px;max-width:1500px;overflow:auto;\">\n",
        "<table border=\"1\" class=\"dataframe\">\n",
        "  <thead>\n",
        "    <tr style=\"text-align: right;\">\n",
        "      <th></th>\n",
        "      <th>Unique Key</th>\n",
        "      <th>X Coordinate (State Plane)</th>\n",
        "      <th>Y Coordinate (State Plane)</th>\n",
        "      <th>School or Citywide Complaint</th>\n",
        "      <th>Latitude</th>\n",
        "      <th>Longitude</th>\n",
        "    </tr>\n",
        "  </thead>\n",
        "  <tbody>\n",
        "    <tr>\n",
        "      <th>count</th>\n",
        "      <td>   111069.000000</td>\n",
        "      <td>   98143.000000</td>\n",
        "      <td>  98143.000000</td>\n",
        "      <td>  0</td>\n",
        "      <td> 98143.000000</td>\n",
        "      <td> 98143.000000</td>\n",
        "    </tr>\n",
        "    <tr>\n",
        "      <th>mean</th>\n",
        "      <td> 26515650.488453</td>\n",
        "      <td> 1004544.206393</td>\n",
        "      <td> 205553.153287</td>\n",
        "      <td>NaN</td>\n",
        "      <td>    40.730821</td>\n",
        "      <td>   -73.926738</td>\n",
        "    </tr>\n",
        "    <tr>\n",
        "      <th>std</th>\n",
        "      <td>    46945.579240</td>\n",
        "      <td>   22060.865300</td>\n",
        "      <td>  31334.677543</td>\n",
        "      <td>NaN</td>\n",
        "      <td>     0.086006</td>\n",
        "      <td>     0.079563</td>\n",
        "    </tr>\n",
        "    <tr>\n",
        "      <th>min</th>\n",
        "      <td> 26425880.000000</td>\n",
        "      <td>  913495.000000</td>\n",
        "      <td> 121152.000000</td>\n",
        "      <td>NaN</td>\n",
        "      <td>    40.498949</td>\n",
        "      <td>   -74.254437</td>\n",
        "    </tr>\n",
        "    <tr>\n",
        "      <th>25%</th>\n",
        "      <td> 26474334.000000</td>\n",
        "      <td>  992049.000000</td>\n",
        "      <td> 182506.000000</td>\n",
        "      <td>NaN</td>\n",
        "      <td>    40.667529</td>\n",
        "      <td>   -73.971882</td>\n",
        "    </tr>\n",
        "    <tr>\n",
        "      <th>50%</th>\n",
        "      <td> 26514717.000000</td>\n",
        "      <td> 1003205.000000</td>\n",
        "      <td> 203251.000000</td>\n",
        "      <td>NaN</td>\n",
        "      <td>    40.724521</td>\n",
        "      <td>   -73.931580</td>\n",
        "    </tr>\n",
        "    <tr>\n",
        "      <th>75%</th>\n",
        "      <td> 26556845.000000</td>\n",
        "      <td> 1016823.000000</td>\n",
        "      <td> 233366.000000</td>\n",
        "      <td>NaN</td>\n",
        "      <td>    40.807183</td>\n",
        "      <td>   -73.882430</td>\n",
        "    </tr>\n",
        "    <tr>\n",
        "      <th>max</th>\n",
        "      <td> 26596133.000000</td>\n",
        "      <td> 1067024.000000</td>\n",
        "      <td> 271485.000000</td>\n",
        "      <td>NaN</td>\n",
        "      <td>    40.911792</td>\n",
        "      <td>   -73.701278</td>\n",
        "    </tr>\n",
        "  </tbody>\n",
        "</table>\n",
        "</div>"
       ],
       "metadata": {},
       "output_type": "pyout",
       "prompt_number": 39,
       "text": [
        "            Unique Key  X Coordinate (State Plane)  \\\n",
        "count    111069.000000                98143.000000   \n",
        "mean   26515650.488453              1004544.206393   \n",
        "std       46945.579240                22060.865300   \n",
        "min    26425880.000000               913495.000000   \n",
        "25%    26474334.000000               992049.000000   \n",
        "50%    26514717.000000              1003205.000000   \n",
        "75%    26556845.000000              1016823.000000   \n",
        "max    26596133.000000              1067024.000000   \n",
        "\n",
        "       Y Coordinate (State Plane)  School or Citywide Complaint      Latitude  \\\n",
        "count                98143.000000                             0  98143.000000   \n",
        "mean                205553.153287                           NaN     40.730821   \n",
        "std                  31334.677543                           NaN      0.086006   \n",
        "min                 121152.000000                           NaN     40.498949   \n",
        "25%                 182506.000000                           NaN     40.667529   \n",
        "50%                 203251.000000                           NaN     40.724521   \n",
        "75%                 233366.000000                           NaN     40.807183   \n",
        "max                 271485.000000                           NaN     40.911792   \n",
        "\n",
        "          Longitude  \n",
        "count  98143.000000  \n",
        "mean     -73.926738  \n",
        "std        0.079563  \n",
        "min      -74.254437  \n",
        "25%      -73.971882  \n",
        "50%      -73.931580  \n",
        "75%      -73.882430  \n",
        "max      -73.701278  "
       ]
      }
     ],
     "prompt_number": 39
    },
    {
     "cell_type": "code",
     "collapsed": false,
     "input": [
      "data.info()"
     ],
     "language": "python",
     "metadata": {},
     "outputs": [
      {
       "output_type": "stream",
       "stream": "stdout",
       "text": [
        "<class 'pandas.core.frame.DataFrame'>\n",
        "Int64Index: 111069 entries, 0 to 111068\n",
        "Data columns (total 52 columns):\n",
        "Unique Key                        111069  non-null values\n",
        "Created Date                      111069  non-null values\n",
        "Closed Date                       60270  non-null values\n",
        "Agency                            111069  non-null values\n",
        "Agency Name                       111069  non-null values\n",
        "Complaint Type                    111069  non-null values\n",
        "Descriptor                        111068  non-null values\n",
        "Location Type                     79048  non-null values\n",
        "Incident Zip                      98813  non-null values\n",
        "Incident Address                  84441  non-null values\n",
        "Street Name                       84438  non-null values\n",
        "Cross Street 1                    84728  non-null values\n",
        "Cross Street 2                    84005  non-null values\n",
        "Intersection Street 1             19364  non-null values\n",
        "Intersection Street 2             19366  non-null values\n",
        "Address Type                      102247  non-null values\n",
        "City                              98860  non-null values\n",
        "Landmark                          95  non-null values\n",
        "Facility Type                     110938  non-null values\n",
        "Status                            111069  non-null values\n",
        "Due Date                          39239  non-null values\n",
        "Resolution Action Updated Date    96507  non-null values\n",
        "Community Board                   111069  non-null values\n",
        "Borough                           111069  non-null values\n",
        "X Coordinate (State Plane)        98143  non-null values\n",
        "Y Coordinate (State Plane)        98143  non-null values\n",
        "Park Facility Name                111069  non-null values\n",
        "Park Borough                      111069  non-null values\n",
        "School Name                       111069  non-null values\n",
        "School Number                     111052  non-null values\n",
        "School Region                     110524  non-null values\n",
        "School Code                       110524  non-null values\n",
        "School Phone Number               111069  non-null values\n",
        "School Address                    111069  non-null values\n",
        "School City                       111069  non-null values\n",
        "School State                      111069  non-null values\n",
        "School Zip                        111069  non-null values\n",
        "School Not Found                  38984  non-null values\n",
        "School or Citywide Complaint      0  non-null values\n",
        "Vehicle Type                      99  non-null values\n",
        "Taxi Company Borough              117  non-null values\n",
        "Taxi Pick Up Location             1059  non-null values\n",
        "Bridge Highway Name               185  non-null values\n",
        "Bridge Highway Direction          185  non-null values\n",
        "Road Ramp                         184  non-null values\n",
        "Bridge Highway Segment            223  non-null values\n",
        "Garage Lot Name                   49  non-null values\n",
        "Ferry Direction                   37  non-null values\n",
        "Ferry Terminal Name               336  non-null values\n",
        "Latitude                          98143  non-null values\n",
        "Longitude                         98143  non-null values\n",
        "Location                          98143  non-null values\n",
        "dtypes: datetime64[ns](1), float64(5), int64(1), object(45)"
       ]
      }
     ],
     "prompt_number": 40
    },
    {
     "cell_type": "code",
     "collapsed": false,
     "input": [
      "data['Complaint Type'].value_counts()"
     ],
     "language": "python",
     "metadata": {},
     "outputs": [
      {
       "metadata": {},
       "output_type": "pyout",
       "prompt_number": 41,
       "text": [
        "HEATING                     14200\n",
        "GENERAL CONSTRUCTION         7471\n",
        "Street Light Condition       7117\n",
        "DOF Literature Request       5797\n",
        "PLUMBING                     5373\n",
        "PAINT - PLASTER              5149\n",
        "Blocked Driveway             4590\n",
        "NONCONST                     3998\n",
        "Street Condition             3473\n",
        "Illegal Parking              3343\n",
        "Noise                        3321\n",
        "Traffic Signal Condition     3145\n",
        "Dirty Conditions             2653\n",
        "Water System                 2636\n",
        "Noise - Commercial           2578\n",
        "...\n",
        "Opinion for the Mayor                2\n",
        "Window Guard                         2\n",
        "DFTA Literature Request              2\n",
        "Legal Services Provider Complaint    2\n",
        "Open Flame Permit                    1\n",
        "Snow                                 1\n",
        "Municipal Parking Facility           1\n",
        "X-Ray Machine/Equipment              1\n",
        "Stalled Sites                        1\n",
        "DHS Income Savings Requirement       1\n",
        "Tunnel Condition                     1\n",
        "Highway Sign - Damaged               1\n",
        "Ferry Permit                         1\n",
        "Trans Fat                            1\n",
        "DWD                                  1\n",
        "Length: 165, dtype: int64"
       ]
      }
     ],
     "prompt_number": 41
    },
    {
     "cell_type": "code",
     "collapsed": false,
     "input": [
      "heat = data[['Created Date', 'Complaint Type']][data['Complaint Type'] == 'HEATING']"
     ],
     "language": "python",
     "metadata": {},
     "outputs": [],
     "prompt_number": 42
    },
    {
     "cell_type": "code",
     "collapsed": false,
     "input": [
      "heat.set_index('Created Date')"
     ],
     "language": "python",
     "metadata": {},
     "outputs": [
      {
       "html": [
        "<pre>\n",
        "&lt;class 'pandas.core.frame.DataFrame'&gt;\n",
        "DatetimeIndex: 14200 entries, 2013-10-31 00:00:00 to 2013-10-05 00:00:00\n",
        "Data columns (total 1 columns):\n",
        "Complaint Type    14200  non-null values\n",
        "dtypes: object(1)\n",
        "</pre>"
       ],
       "metadata": {},
       "output_type": "pyout",
       "prompt_number": 43,
       "text": [
        "<class 'pandas.core.frame.DataFrame'>\n",
        "DatetimeIndex: 14200 entries, 2013-10-31 00:00:00 to 2013-10-05 00:00:00\n",
        "Data columns (total 1 columns):\n",
        "Complaint Type    14200  non-null values\n",
        "dtypes: object(1)"
       ]
      }
     ],
     "prompt_number": 43
    },
    {
     "cell_type": "code",
     "collapsed": false,
     "input": [
      "heat['day'] = heat['Created Date'].apply(lambda x : x.day)"
     ],
     "language": "python",
     "metadata": {},
     "outputs": [],
     "prompt_number": 44
    },
    {
     "cell_type": "code",
     "collapsed": false,
     "input": [
      "heat['day'].hist(bins=len(heat['day'].unique()))"
     ],
     "language": "python",
     "metadata": {},
     "outputs": [
      {
       "metadata": {},
       "output_type": "pyout",
       "prompt_number": 47,
       "text": [
        "<matplotlib.axes.AxesSubplot at 0x117253a50>"
       ]
      },
      {
       "metadata": {},
       "output_type": "display_data",
       "png": "[encoded data removed]",
       "text": [
        "<matplotlib.figure.Figure at 0x117250ad0>"
       ]
      }
     ],
     "prompt_number": 47
    },
    {
     "cell_type": "code",
     "collapsed": false,
     "input": [
      "data['Created Date'].min()"
     ],
     "language": "python",
     "metadata": {},
     "outputs": [
      {
       "metadata": {},
       "output_type": "pyout",
       "prompt_number": 49,
       "text": [
        "Timestamp('2013-10-04 00:00:10', tz=None)"
       ]
      }
     ],
     "prompt_number": 49
    },
    {
     "cell_type": "code",
     "collapsed": false,
     "input": [
      "noise = data[['Created Date', 'Complaint Type']][data['Complaint Type'].str.lower().str.contains('noise', na=False)]"
     ],
     "language": "python",
     "metadata": {},
     "outputs": [],
     "prompt_number": 50
    },
    {
     "cell_type": "code",
     "collapsed": false,
     "input": [
      "noise.info()"
     ],
     "language": "python",
     "metadata": {},
     "outputs": [
      {
       "output_type": "stream",
       "stream": "stdout",
       "text": [
        "<class 'pandas.core.frame.DataFrame'>\n",
        "Int64Index: 8942 entries, 0 to 111067\n",
        "Data columns (total 2 columns):\n",
        "Created Date      8942  non-null values\n",
        "Complaint Type    8942  non-null values\n",
        "dtypes: datetime64[ns](1), object(1)"
       ]
      }
     ],
     "prompt_number": 51
    },
    {
     "cell_type": "code",
     "collapsed": false,
     "input": [
      "noise['Complaint Type'].unique()"
     ],
     "language": "python",
     "metadata": {},
     "outputs": [
      {
       "metadata": {},
       "output_type": "pyout",
       "prompt_number": 52,
       "text": [
        "array(['Noise - Street/Sidewalk', 'Noise - Commercial', 'Noise - Vehicle',\n",
        "       'Noise - House of Worship', 'Noise - Park', 'Noise',\n",
        "       'Noise - Helicopter', 'Collection Truck Noise'], dtype=object)"
       ]
      }
     ],
     "prompt_number": 52
    },
    {
     "cell_type": "code",
     "collapsed": false,
     "input": [
      "noise['Complaint Type'].value_counts()"
     ],
     "language": "python",
     "metadata": {},
     "outputs": [
      {
       "metadata": {},
       "output_type": "pyout",
       "prompt_number": 53,
       "text": [
        "Noise                       3321\n",
        "Noise - Commercial          2578\n",
        "Noise - Street/Sidewalk     1928\n",
        "Noise - Vehicle              750\n",
        "Noise - Park                 191\n",
        "Noise - Helicopter            99\n",
        "Noise - House of Worship      67\n",
        "Collection Truck Noise         8\n",
        "dtype: int64"
       ]
      }
     ],
     "prompt_number": 53
    },
    {
     "cell_type": "code",
     "collapsed": false,
     "input": [
      "noise['Complaint Type'].value_counts().plot(kind='bar')"
     ],
     "language": "python",
     "metadata": {},
     "outputs": [
      {
       "metadata": {},
       "output_type": "pyout",
       "prompt_number": 54,
       "text": [
        "<matplotlib.axes.AxesSubplot at 0x1154cdad0>"
       ]
      },
      {
       "metadata": {},
       "output_type": "display_data",
       "png": "[encoded data removed]",
       "text": [
        "<matplotlib.figure.Figure at 0x1154cdd90>"
       ]
      }
     ],
     "prompt_number": 54
    },
    {
     "cell_type": "code",
     "collapsed": false,
     "input": [
      "noise_by_hour = noise.set_index('Created Date').resample('H', how='count')"
     ],
     "language": "python",
     "metadata": {},
     "outputs": [],
     "prompt_number": 55
    },
    {
     "cell_type": "code",
     "collapsed": false,
     "input": [
      "noise_by_hour"
     ],
     "language": "python",
     "metadata": {},
     "outputs": [
      {
       "metadata": {},
       "output_type": "pyout",
       "prompt_number": 56,
       "text": [
        "2013-10-04 00:00:00  Complaint Type    38\n",
        "2013-10-04 01:00:00  Complaint Type    23\n",
        "2013-10-04 02:00:00  Complaint Type    17\n",
        "2013-10-04 03:00:00  Complaint Type     7\n",
        "2013-10-04 04:00:00  Complaint Type     3\n",
        "2013-10-04 05:00:00  Complaint Type     1\n",
        "2013-10-04 06:00:00  Complaint Type     6\n",
        "2013-10-04 07:00:00  Complaint Type    13\n",
        "2013-10-04 08:00:00  Complaint Type     3\n",
        "2013-10-04 09:00:00  Complaint Type    10\n",
        "2013-10-04 10:00:00  Complaint Type     8\n",
        "2013-10-04 11:00:00  Complaint Type    12\n",
        "2013-10-04 12:00:00  Complaint Type     8\n",
        "2013-10-04 13:00:00  Complaint Type     8\n",
        "2013-10-04 14:00:00  Complaint Type    15\n",
        "...\n",
        "2013-10-30 12:00:00  Complaint Type    12\n",
        "2013-10-30 13:00:00  Complaint Type     5\n",
        "2013-10-30 14:00:00  Complaint Type     6\n",
        "2013-10-30 15:00:00  Complaint Type    12\n",
        "2013-10-30 16:00:00  Complaint Type    12\n",
        "2013-10-30 17:00:00  Complaint Type     8\n",
        "2013-10-30 18:00:00  Complaint Type    21\n",
        "2013-10-30 19:00:00  Complaint Type    13\n",
        "2013-10-30 20:00:00  Complaint Type    13\n",
        "2013-10-30 21:00:00  Complaint Type    18\n",
        "2013-10-30 22:00:00  Complaint Type    42\n",
        "2013-10-30 23:00:00  Complaint Type    34\n",
        "2013-10-31 00:00:00  Complaint Type    22\n",
        "2013-10-31 01:00:00  Complaint Type     9\n",
        "2013-10-31 02:00:00  Complaint Type     2\n",
        "Length: 651, dtype: int64"
       ]
      }
     ],
     "prompt_number": 56
    },
    {
     "cell_type": "code",
     "collapsed": false,
     "input": [
      "noise['hour'] = noise['Created Date'].apply(lambda x: x.hour)"
     ],
     "language": "python",
     "metadata": {},
     "outputs": [],
     "prompt_number": 57
    },
    {
     "cell_type": "code",
     "collapsed": false,
     "input": [
      "noise.tail(10)"
     ],
     "language": "python",
     "metadata": {},
     "outputs": [
      {
       "html": [
        "<div style=\"max-height:1000px;max-width:1500px;overflow:auto;\">\n",
        "<table border=\"1\" class=\"dataframe\">\n",
        "  <thead>\n",
        "    <tr style=\"text-align: right;\">\n",
        "      <th></th>\n",
        "      <th>Created Date</th>\n",
        "      <th>Complaint Type</th>\n",
        "      <th>hour</th>\n",
        "    </tr>\n",
        "  </thead>\n",
        "  <tbody>\n",
        "    <tr>\n",
        "      <th>111051</th>\n",
        "      <td>2013-10-04 00:08:15</td>\n",
        "      <td>      Noise - Commercial</td>\n",
        "      <td> 0</td>\n",
        "    </tr>\n",
        "    <tr>\n",
        "      <th>111054</th>\n",
        "      <td>2013-10-04 00:06:39</td>\n",
        "      <td> Noise - Street/Sidewalk</td>\n",
        "      <td> 0</td>\n",
        "    </tr>\n",
        "    <tr>\n",
        "      <th>111055</th>\n",
        "      <td>2013-10-04 00:06:28</td>\n",
        "      <td>      Noise - Commercial</td>\n",
        "      <td> 0</td>\n",
        "    </tr>\n",
        "    <tr>\n",
        "      <th>111057</th>\n",
        "      <td>2013-10-04 00:06:00</td>\n",
        "      <td>                   Noise</td>\n",
        "      <td> 0</td>\n",
        "    </tr>\n",
        "    <tr>\n",
        "      <th>111058</th>\n",
        "      <td>2013-10-04 00:05:12</td>\n",
        "      <td>      Noise - Commercial</td>\n",
        "      <td> 0</td>\n",
        "    </tr>\n",
        "    <tr>\n",
        "      <th>111059</th>\n",
        "      <td>2013-10-04 00:04:52</td>\n",
        "      <td> Noise - Street/Sidewalk</td>\n",
        "      <td> 0</td>\n",
        "    </tr>\n",
        "    <tr>\n",
        "      <th>111060</th>\n",
        "      <td>2013-10-04 00:04:00</td>\n",
        "      <td>                   Noise</td>\n",
        "      <td> 0</td>\n",
        "    </tr>\n",
        "    <tr>\n",
        "      <th>111061</th>\n",
        "      <td>2013-10-04 00:03:00</td>\n",
        "      <td>      Noise - Commercial</td>\n",
        "      <td> 0</td>\n",
        "    </tr>\n",
        "    <tr>\n",
        "      <th>111066</th>\n",
        "      <td>2013-10-04 00:00:45</td>\n",
        "      <td> Noise - Street/Sidewalk</td>\n",
        "      <td> 0</td>\n",
        "    </tr>\n",
        "    <tr>\n",
        "      <th>111067</th>\n",
        "      <td>2013-10-04 00:00:28</td>\n",
        "      <td>      Noise - Commercial</td>\n",
        "      <td> 0</td>\n",
        "    </tr>\n",
        "  </tbody>\n",
        "</table>\n",
        "</div>"
       ],
       "metadata": {},
       "output_type": "pyout",
       "prompt_number": 61,
       "text": [
        "              Created Date           Complaint Type  hour\n",
        "111051 2013-10-04 00:08:15       Noise - Commercial     0\n",
        "111054 2013-10-04 00:06:39  Noise - Street/Sidewalk     0\n",
        "111055 2013-10-04 00:06:28       Noise - Commercial     0\n",
        "111057 2013-10-04 00:06:00                    Noise     0\n",
        "111058 2013-10-04 00:05:12       Noise - Commercial     0\n",
        "111059 2013-10-04 00:04:52  Noise - Street/Sidewalk     0\n",
        "111060 2013-10-04 00:04:00                    Noise     0\n",
        "111061 2013-10-04 00:03:00       Noise - Commercial     0\n",
        "111066 2013-10-04 00:00:45  Noise - Street/Sidewalk     0\n",
        "111067 2013-10-04 00:00:28       Noise - Commercial     0"
       ]
      }
     ],
     "prompt_number": 61
    },
    {
     "cell_type": "code",
     "collapsed": false,
     "input": [
      "noise['hour'].hist(bins=24)"
     ],
     "language": "python",
     "metadata": {},
     "outputs": [
      {
       "metadata": {},
       "output_type": "pyout",
       "prompt_number": 62,
       "text": [
        "<matplotlib.axes.AxesSubplot at 0x111280850>"
       ]
      },
      {
       "metadata": {},
       "output_type": "display_data",
       "png": "[encoded data removed]",
       "text": [
        "<matplotlib.figure.Figure at 0x111268e90>"
       ]
      }
     ],
     "prompt_number": 62
    },
    {
     "cell_type": "code",
     "collapsed": false,
     "input": [
      "data[['Complaint Type','Created Date','Agency','Borough', 'Bridge Highway Name']][:5]"
     ],
     "language": "python",
     "metadata": {},
     "outputs": [
      {
       "html": [
        "<div style=\"max-height:1000px;max-width:1500px;overflow:auto;\">\n",
        "<table border=\"1\" class=\"dataframe\">\n",
        "  <thead>\n",
        "    <tr style=\"text-align: right;\">\n",
        "      <th></th>\n",
        "      <th>Complaint Type</th>\n",
        "      <th>Created Date</th>\n",
        "      <th>Agency</th>\n",
        "      <th>Borough</th>\n",
        "      <th>Bridge Highway Name</th>\n",
        "    </tr>\n",
        "  </thead>\n",
        "  <tbody>\n",
        "    <tr>\n",
        "      <th>0</th>\n",
        "      <td> Noise - Street/Sidewalk</td>\n",
        "      <td>2013-10-31 02:08:41</td>\n",
        "      <td>  NYPD</td>\n",
        "      <td>    QUEENS</td>\n",
        "      <td> NaN</td>\n",
        "    </tr>\n",
        "    <tr>\n",
        "      <th>1</th>\n",
        "      <td>         Illegal Parking</td>\n",
        "      <td>2013-10-31 02:01:04</td>\n",
        "      <td>  NYPD</td>\n",
        "      <td>    QUEENS</td>\n",
        "      <td> NaN</td>\n",
        "    </tr>\n",
        "    <tr>\n",
        "      <th>2</th>\n",
        "      <td>      Noise - Commercial</td>\n",
        "      <td>2013-10-31 02:00:24</td>\n",
        "      <td>  NYPD</td>\n",
        "      <td> MANHATTAN</td>\n",
        "      <td> NaN</td>\n",
        "    </tr>\n",
        "    <tr>\n",
        "      <th>3</th>\n",
        "      <td>         Noise - Vehicle</td>\n",
        "      <td>2013-10-31 01:56:23</td>\n",
        "      <td>  NYPD</td>\n",
        "      <td> MANHATTAN</td>\n",
        "      <td> NaN</td>\n",
        "    </tr>\n",
        "    <tr>\n",
        "      <th>4</th>\n",
        "      <td>                  Rodent</td>\n",
        "      <td>2013-10-31 01:53:44</td>\n",
        "      <td> DOHMH</td>\n",
        "      <td> MANHATTAN</td>\n",
        "      <td> NaN</td>\n",
        "    </tr>\n",
        "  </tbody>\n",
        "</table>\n",
        "</div>"
       ],
       "metadata": {},
       "output_type": "pyout",
       "prompt_number": 63,
       "text": [
        "            Complaint Type        Created Date Agency    Borough  \\\n",
        "0  Noise - Street/Sidewalk 2013-10-31 02:08:41   NYPD     QUEENS   \n",
        "1          Illegal Parking 2013-10-31 02:01:04   NYPD     QUEENS   \n",
        "2       Noise - Commercial 2013-10-31 02:00:24   NYPD  MANHATTAN   \n",
        "3          Noise - Vehicle 2013-10-31 01:56:23   NYPD  MANHATTAN   \n",
        "4                   Rodent 2013-10-31 01:53:44  DOHMH  MANHATTAN   \n",
        "\n",
        "  Bridge Highway Name  \n",
        "0                 NaN  \n",
        "1                 NaN  \n",
        "2                 NaN  \n",
        "3                 NaN  \n",
        "4                 NaN  "
       ]
      }
     ],
     "prompt_number": 63
    },
    {
     "cell_type": "code",
     "collapsed": false,
     "input": [
      "data['Bridge Highway Name'].unique()"
     ],
     "language": "python",
     "metadata": {},
     "outputs": [
      {
       "metadata": {},
       "output_type": "pyout",
       "prompt_number": 65,
       "text": [
        "array([nan, 'BQE/Gowanus Expwy', 'Bruckner Expwy', 'Kosciuszko Br - BQE',\n",
        "       'Richmond Pkwy/Korean War Vets', 'Eastern Blvd Br - Edgewater Rd',\n",
        "       'Queensboro/59th St Br', 'Harlem River Dr', 'Van Wyck Expwy',\n",
        "       'Staten Island Expwy', 'Belt Pkwy', 'Brooklyn Br',\n",
        "       'Clearview Expwy', 'Cross Island Pkwy', 'Cross Bronx Expwy',\n",
        "       'Jackie Robinson/Interboro Pkwy', 'Long Island Expwy',\n",
        "       'Grand Central Pkwy', 'Whitestone Expwy', 'FDR Dr',\n",
        "       'West Shore Expwy', 'Washington Br/181 Street Br.',\n",
        "       'Prospect Expwy', 'Westchester Ave Br - Bronx River',\n",
        "       'Willis Ave Br - 125th St/1st Ave', 'Henry Hudson Pkwy/Rt 9A',\n",
        "       'Bronx River Pkwy', 'Battery Park Underpass', 'Throgs Neck Expwy',\n",
        "       'Queens Midtown Tunnel', 'Triborough Br',\n",
        "       'Alexander Hamilton/I-95 Cross Bronx Br', 'Major Deegan Expwy',\n",
        "       'Sheridan Expwy', 'Manhattan Br', 'Williamsburg Br', 'Nassau Expwy',\n",
        "       'First Ave Tunnel - UN Plaza'], dtype=object)"
       ]
      }
     ],
     "prompt_number": 65
    },
    {
     "cell_type": "code",
     "collapsed": false,
     "input": [
      "data['Bridge Highway Name'][data['Bridge Highway Name'].notnull()]"
     ],
     "language": "python",
     "metadata": {},
     "outputs": [
      {
       "metadata": {},
       "output_type": "pyout",
       "prompt_number": 66,
       "text": [
        "722                   BQE/Gowanus Expwy\n",
        "1156                  BQE/Gowanus Expwy\n",
        "1162                     Bruckner Expwy\n",
        "1185                Kosciuszko Br - BQE\n",
        "1220                     Bruckner Expwy\n",
        "1630      Richmond Pkwy/Korean War Vets\n",
        "2290     Eastern Blvd Br - Edgewater Rd\n",
        "2994              Queensboro/59th St Br\n",
        "3144                  BQE/Gowanus Expwy\n",
        "6050                  BQE/Gowanus Expwy\n",
        "6322                    Harlem River Dr\n",
        "8366                     Van Wyck Expwy\n",
        "8410                     Van Wyck Expwy\n",
        "11234               Staten Island Expwy\n",
        "12431                         Belt Pkwy\n",
        "...\n",
        "101527                         Belt Pkwy\n",
        "103371                 Cross Island Pkwy\n",
        "103449    Jackie Robinson/Interboro Pkwy\n",
        "103599      Washington Br/181 Street Br.\n",
        "103605                    Van Wyck Expwy\n",
        "103923             Queensboro/59th St Br\n",
        "104716                            FDR Dr\n",
        "105752                            FDR Dr\n",
        "106636       First Ave Tunnel - UN Plaza\n",
        "106841                 Cross Bronx Expwy\n",
        "108762             Queens Midtown Tunnel\n",
        "109444                         Belt Pkwy\n",
        "109506                         Belt Pkwy\n",
        "110095                Grand Central Pkwy\n",
        "110539                         Belt Pkwy\n",
        "Name: Bridge Highway Name, Length: 185, dtype: object"
       ]
      }
     ],
     "prompt_number": 66
    },
    {
     "cell_type": "code",
     "collapsed": false,
     "input": [
      "data['Bridge Highway Name'].value_counts()[:10].plot(kind='bar')"
     ],
     "language": "python",
     "metadata": {},
     "outputs": [
      {
       "metadata": {},
       "output_type": "pyout",
       "prompt_number": 67,
       "text": [
        "<matplotlib.axes.AxesSubplot at 0x116843110>"
       ]
      },
      {
       "metadata": {},
       "output_type": "display_data",
       "png": "[encoded data removed]",
       "text": [
        "<matplotlib.figure.Figure at 0x11126d450>"
       ]
      }
     ],
     "prompt_number": 67
    },
    {
     "cell_type": "code",
     "collapsed": false,
     "input": [
      "plot(data['Longitude'], data['Latitude'], '.', color=\"purple\")"
     ],
     "language": "python",
     "metadata": {},
     "outputs": [
      {
       "metadata": {},
       "output_type": "pyout",
       "prompt_number": 68,
       "text": [
        "[<matplotlib.lines.Line2D at 0x1112ac4d0>]"
       ]
      },
      {
       "metadata": {},
       "output_type": "display_data",
       "png": "[encoded data removed]",
       "text": [
        "<matplotlib.figure.Figure at 0x11683d510>"
       ]
      }
     ],
     "prompt_number": 68
    },
    {
     "cell_type": "code",
     "collapsed": false,
     "input": [
      "agency = data[['Agency','Agency Name','Latitude','Longitude','Created Date']]\n",
      "lookup = agency[['Agency','Agency Name']].groupby('Agency').agg('first').reset_index()\n",
      "lookup\n"
     ],
     "language": "python",
     "metadata": {},
     "outputs": [
      {
       "html": [
        "<div style=\"max-height:1000px;max-width:1500px;overflow:auto;\">\n",
        "<table border=\"1\" class=\"dataframe\">\n",
        "  <thead>\n",
        "    <tr style=\"text-align: right;\">\n",
        "      <th></th>\n",
        "      <th>Agency</th>\n",
        "      <th>Agency Name</th>\n",
        "    </tr>\n",
        "  </thead>\n",
        "  <tbody>\n",
        "    <tr>\n",
        "      <th>0 </th>\n",
        "      <td> 3-1-1</td>\n",
        "      <td>                                 3-1-1 Call Center</td>\n",
        "    </tr>\n",
        "    <tr>\n",
        "      <th>1 </th>\n",
        "      <td> CHALL</td>\n",
        "      <td>                                             CHALL</td>\n",
        "    </tr>\n",
        "    <tr>\n",
        "      <th>2 </th>\n",
        "      <td>  COIB</td>\n",
        "      <td>                                              COIB</td>\n",
        "    </tr>\n",
        "    <tr>\n",
        "      <th>3 </th>\n",
        "      <td>   DCA</td>\n",
        "      <td>                    Department of Consumer Affairs</td>\n",
        "    </tr>\n",
        "    <tr>\n",
        "      <th>4 </th>\n",
        "      <td>   DEP</td>\n",
        "      <td>            Department of Environmental Protection</td>\n",
        "    </tr>\n",
        "    <tr>\n",
        "      <th>5 </th>\n",
        "      <td>  DFTA</td>\n",
        "      <td>                          Department for the Aging</td>\n",
        "    </tr>\n",
        "    <tr>\n",
        "      <th>6 </th>\n",
        "      <td>   DHS</td>\n",
        "      <td> Operations Unit - Department of Homeless Services</td>\n",
        "    </tr>\n",
        "    <tr>\n",
        "      <th>7 </th>\n",
        "      <td>   DOB</td>\n",
        "      <td>                           Department of Buildings</td>\n",
        "    </tr>\n",
        "    <tr>\n",
        "      <th>8 </th>\n",
        "      <td>   DOE</td>\n",
        "      <td>                        School - PS 282 Park Slope</td>\n",
        "    </tr>\n",
        "    <tr>\n",
        "      <th>9 </th>\n",
        "      <td>   DOF</td>\n",
        "      <td>                             Department of Finance</td>\n",
        "    </tr>\n",
        "    <tr>\n",
        "      <th>10</th>\n",
        "      <td> DOHMH</td>\n",
        "      <td>           Department of Health and Mental Hygiene</td>\n",
        "    </tr>\n",
        "    <tr>\n",
        "      <th>11</th>\n",
        "      <td> DOITT</td>\n",
        "      <td> Department of Information Technology and Telec...</td>\n",
        "    </tr>\n",
        "    <tr>\n",
        "      <th>12</th>\n",
        "      <td>   DOP</td>\n",
        "      <td>                                               DOP</td>\n",
        "    </tr>\n",
        "    <tr>\n",
        "      <th>13</th>\n",
        "      <td>   DOT</td>\n",
        "      <td>                      Department of Transportation</td>\n",
        "    </tr>\n",
        "    <tr>\n",
        "      <th>14</th>\n",
        "      <td>   DPR</td>\n",
        "      <td>                Department of Parks and Recreation</td>\n",
        "    </tr>\n",
        "    <tr>\n",
        "      <th>15</th>\n",
        "      <td>  DSNY</td>\n",
        "      <td>                              BCC - Brooklyn South</td>\n",
        "    </tr>\n",
        "    <tr>\n",
        "      <th>16</th>\n",
        "      <td>   EDC</td>\n",
        "      <td>                  Economic Development Corporation</td>\n",
        "    </tr>\n",
        "    <tr>\n",
        "      <th>17</th>\n",
        "      <td>  FDNY</td>\n",
        "      <td> Bureau of Fire Prevention - Highrise Unit - In...</td>\n",
        "    </tr>\n",
        "    <tr>\n",
        "      <th>18</th>\n",
        "      <td>   HPD</td>\n",
        "      <td> Department of Housing Preservation and Develop...</td>\n",
        "    </tr>\n",
        "    <tr>\n",
        "      <th>19</th>\n",
        "      <td>   HRA</td>\n",
        "      <td>                      HRA Benefit Card Replacement</td>\n",
        "    </tr>\n",
        "    <tr>\n",
        "      <th>20</th>\n",
        "      <td>  NYPD</td>\n",
        "      <td>                   New York City Police Department</td>\n",
        "    </tr>\n",
        "    <tr>\n",
        "      <th>21</th>\n",
        "      <td>  OATH</td>\n",
        "      <td>                                              OATH</td>\n",
        "    </tr>\n",
        "    <tr>\n",
        "      <th>22</th>\n",
        "      <td>   OEM</td>\n",
        "      <td>                    Office of Emergency Management</td>\n",
        "    </tr>\n",
        "    <tr>\n",
        "      <th>23</th>\n",
        "      <td>   OMB</td>\n",
        "      <td>                                               OMB</td>\n",
        "    </tr>\n",
        "    <tr>\n",
        "      <th>24</th>\n",
        "      <td>   OPS</td>\n",
        "      <td>                                               OPS</td>\n",
        "    </tr>\n",
        "    <tr>\n",
        "      <th>25</th>\n",
        "      <td>   TLC</td>\n",
        "      <td>                     Taxi and Limousine Commission</td>\n",
        "    </tr>\n",
        "  </tbody>\n",
        "</table>\n",
        "</div>"
       ],
       "metadata": {},
       "output_type": "pyout",
       "prompt_number": 69,
       "text": [
        "   Agency                                        Agency Name\n",
        "0   3-1-1                                  3-1-1 Call Center\n",
        "1   CHALL                                              CHALL\n",
        "2    COIB                                               COIB\n",
        "3     DCA                     Department of Consumer Affairs\n",
        "4     DEP             Department of Environmental Protection\n",
        "5    DFTA                           Department for the Aging\n",
        "6     DHS  Operations Unit - Department of Homeless Services\n",
        "7     DOB                            Department of Buildings\n",
        "8     DOE                         School - PS 282 Park Slope\n",
        "9     DOF                              Department of Finance\n",
        "10  DOHMH            Department of Health and Mental Hygiene\n",
        "11  DOITT  Department of Information Technology and Telec...\n",
        "12    DOP                                                DOP\n",
        "13    DOT                       Department of Transportation\n",
        "14    DPR                 Department of Parks and Recreation\n",
        "15   DSNY                               BCC - Brooklyn South\n",
        "16    EDC                   Economic Development Corporation\n",
        "17   FDNY  Bureau of Fire Prevention - Highrise Unit - In...\n",
        "18    HPD  Department of Housing Preservation and Develop...\n",
        "19    HRA                       HRA Benefit Card Replacement\n",
        "20   NYPD                    New York City Police Department\n",
        "21   OATH                                               OATH\n",
        "22    OEM                     Office of Emergency Management\n",
        "23    OMB                                                OMB\n",
        "24    OPS                                                OPS\n",
        "25    TLC                      Taxi and Limousine Commission"
       ]
      }
     ],
     "prompt_number": 69
    },
    {
     "cell_type": "code",
     "collapsed": false,
     "input": [
      "agency.head(10)"
     ],
     "language": "python",
     "metadata": {},
     "outputs": [
      {
       "html": [
        "<div style=\"max-height:1000px;max-width:1500px;overflow:auto;\">\n",
        "<table border=\"1\" class=\"dataframe\">\n",
        "  <thead>\n",
        "    <tr style=\"text-align: right;\">\n",
        "      <th></th>\n",
        "      <th>Agency</th>\n",
        "      <th>Agency Name</th>\n",
        "      <th>Latitude</th>\n",
        "      <th>Longitude</th>\n",
        "      <th>Created Date</th>\n",
        "    </tr>\n",
        "  </thead>\n",
        "  <tbody>\n",
        "    <tr>\n",
        "      <th>0</th>\n",
        "      <td>  NYPD</td>\n",
        "      <td>         New York City Police Department</td>\n",
        "      <td> 40.708275</td>\n",
        "      <td>-73.791604</td>\n",
        "      <td>2013-10-31 02:08:41</td>\n",
        "    </tr>\n",
        "    <tr>\n",
        "      <th>1</th>\n",
        "      <td>  NYPD</td>\n",
        "      <td>         New York City Police Department</td>\n",
        "      <td> 40.721041</td>\n",
        "      <td>-73.909453</td>\n",
        "      <td>2013-10-31 02:01:04</td>\n",
        "    </tr>\n",
        "    <tr>\n",
        "      <th>2</th>\n",
        "      <td>  NYPD</td>\n",
        "      <td>         New York City Police Department</td>\n",
        "      <td> 40.843330</td>\n",
        "      <td>-73.939144</td>\n",
        "      <td>2013-10-31 02:00:24</td>\n",
        "    </tr>\n",
        "    <tr>\n",
        "      <th>3</th>\n",
        "      <td>  NYPD</td>\n",
        "      <td>         New York City Police Department</td>\n",
        "      <td> 40.778009</td>\n",
        "      <td>-73.980213</td>\n",
        "      <td>2013-10-31 01:56:23</td>\n",
        "    </tr>\n",
        "    <tr>\n",
        "      <th>4</th>\n",
        "      <td> DOHMH</td>\n",
        "      <td> Department of Health and Mental Hygiene</td>\n",
        "      <td> 40.807691</td>\n",
        "      <td>-73.947387</td>\n",
        "      <td>2013-10-31 01:53:44</td>\n",
        "    </tr>\n",
        "    <tr>\n",
        "      <th>5</th>\n",
        "      <td>  NYPD</td>\n",
        "      <td>         New York City Police Department</td>\n",
        "      <td> 40.749989</td>\n",
        "      <td>-73.881988</td>\n",
        "      <td>2013-10-31 01:46:52</td>\n",
        "    </tr>\n",
        "    <tr>\n",
        "      <th>6</th>\n",
        "      <td>  NYPD</td>\n",
        "      <td>         New York City Police Department</td>\n",
        "      <td> 40.681533</td>\n",
        "      <td>-73.831737</td>\n",
        "      <td>2013-10-31 01:46:40</td>\n",
        "    </tr>\n",
        "    <tr>\n",
        "      <th>7</th>\n",
        "      <td>  NYPD</td>\n",
        "      <td>         New York City Police Department</td>\n",
        "      <td> 40.671816</td>\n",
        "      <td>-73.843092</td>\n",
        "      <td>2013-10-31 01:44:19</td>\n",
        "    </tr>\n",
        "    <tr>\n",
        "      <th>8</th>\n",
        "      <td>  NYPD</td>\n",
        "      <td>         New York City Police Department</td>\n",
        "      <td> 40.739913</td>\n",
        "      <td>-74.000790</td>\n",
        "      <td>2013-10-31 01:44:14</td>\n",
        "    </tr>\n",
        "    <tr>\n",
        "      <th>9</th>\n",
        "      <td>  NYPD</td>\n",
        "      <td>         New York City Police Department</td>\n",
        "      <td> 40.668204</td>\n",
        "      <td>-73.950648</td>\n",
        "      <td>2013-10-31 01:34:41</td>\n",
        "    </tr>\n",
        "  </tbody>\n",
        "</table>\n",
        "</div>"
       ],
       "metadata": {},
       "output_type": "pyout",
       "prompt_number": 70,
       "text": [
        "  Agency                              Agency Name   Latitude  Longitude  \\\n",
        "0   NYPD          New York City Police Department  40.708275 -73.791604   \n",
        "1   NYPD          New York City Police Department  40.721041 -73.909453   \n",
        "2   NYPD          New York City Police Department  40.843330 -73.939144   \n",
        "3   NYPD          New York City Police Department  40.778009 -73.980213   \n",
        "4  DOHMH  Department of Health and Mental Hygiene  40.807691 -73.947387   \n",
        "5   NYPD          New York City Police Department  40.749989 -73.881988   \n",
        "6   NYPD          New York City Police Department  40.681533 -73.831737   \n",
        "7   NYPD          New York City Police Department  40.671816 -73.843092   \n",
        "8   NYPD          New York City Police Department  40.739913 -74.000790   \n",
        "9   NYPD          New York City Police Department  40.668204 -73.950648   \n",
        "\n",
        "         Created Date  \n",
        "0 2013-10-31 02:08:41  \n",
        "1 2013-10-31 02:01:04  \n",
        "2 2013-10-31 02:00:24  \n",
        "3 2013-10-31 01:56:23  \n",
        "4 2013-10-31 01:53:44  \n",
        "5 2013-10-31 01:46:52  \n",
        "6 2013-10-31 01:46:40  \n",
        "7 2013-10-31 01:44:19  \n",
        "8 2013-10-31 01:44:14  \n",
        "9 2013-10-31 01:34:41  "
       ]
      }
     ],
     "prompt_number": 70
    },
    {
     "cell_type": "code",
     "collapsed": false,
     "input": [
      "groups = agency.groupby('Agency')"
     ],
     "language": "python",
     "metadata": {},
     "outputs": [],
     "prompt_number": 71
    },
    {
     "cell_type": "code",
     "collapsed": false,
     "input": [
      "agency['Agency'].value_counts()"
     ],
     "language": "python",
     "metadata": {},
     "outputs": [
      {
       "metadata": {},
       "output_type": "pyout",
       "prompt_number": 74,
       "text": [
        "HPD      39067\n",
        "DOT      17707\n",
        "NYPD     15295\n",
        "DEP       8897\n",
        "DSNY      8385\n",
        "DOF       6370\n",
        "DPR       4614\n",
        "DOHMH     3237\n",
        "DOB       3014\n",
        "TLC       1491\n",
        "DCA       1405\n",
        "FDNY       631\n",
        "HRA        392\n",
        "DHS        101\n",
        "EDC         99\n",
        "DOE         97\n",
        "3-1-1       92\n",
        "CHALL       77\n",
        "DOITT       31\n",
        "OEM         29\n",
        "DFTA        22\n",
        "OPS          8\n",
        "OATH         4\n",
        "DOP          2\n",
        "OMB          1\n",
        "COIB         1\n",
        "dtype: int64"
       ]
      }
     ],
     "prompt_number": 74
    },
    {
     "cell_type": "code",
     "collapsed": false,
     "input": [
      "top_agencies = set(agency['Agency'].value_counts()[8:10].index)\n",
      "top_agencies"
     ],
     "language": "python",
     "metadata": {},
     "outputs": [
      {
       "metadata": {},
       "output_type": "pyout",
       "prompt_number": 78,
       "text": [
        "{'DOB', 'TLC'}"
       ]
      }
     ],
     "prompt_number": 78
    },
    {
     "cell_type": "code",
     "collapsed": false,
     "input": [
      "# Plot\n",
      "fig, ax = plt.subplots()\n",
      "for name, group in groups:\n",
      "    if name in top_agencies:\n",
      "        ax.plot(group.Longitude, group.Latitude, marker='.', linestyle='', ms=12, label=name)\n",
      "ax.legend()\n",
      "\n",
      "plt.show()\n",
      "\n",
      "for name in top_agencies: print name"
     ],
     "language": "python",
     "metadata": {},
     "outputs": [
      {
       "metadata": {},
       "output_type": "display_data",
       "png": "[encoded data removed]",
       "text": [
        "<matplotlib.figure.Figure at 0x111d3f790>"
       ]
      },
      {
       "output_type": "stream",
       "stream": "stdout",
       "text": [
        "DOB\n",
        "TLC\n"
       ]
      }
     ],
     "prompt_number": 79
    },
    {
     "cell_type": "code",
     "collapsed": false,
     "input": [],
     "language": "python",
     "metadata": {},
     "outputs": []
    }
   ],
   "metadata": {}
  }
 ]
}