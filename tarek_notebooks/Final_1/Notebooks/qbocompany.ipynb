{
 "metadata": {
  "name": "",
  "signature": "sha256:6a1287e96f0549846b4be37c7a21a3be3c1eb6442f5ef1f2ca77581fce212f72"
 },
 "nbformat": 3,
 "nbformat_minor": 0,
 "worksheets": [
  {
   "cells": [
    {
     "cell_type": "heading",
     "level": 1,
     "metadata": {},
     "source": [
      "Import Necessary Packages and Modules"
     ]
    },
    {
     "cell_type": "code",
     "collapsed": false,
     "input": [
      "# import your packages here, you can import everything you know about if you like\n",
      "\n",
      "import pandas as pd"
     ],
     "language": "python",
     "metadata": {},
     "outputs": [],
     "prompt_number": 2
    },
    {
     "cell_type": "heading",
     "level": 1,
     "metadata": {},
     "source": [
      "LOAD QBO Payment Data"
     ]
    },
    {
     "cell_type": "code",
     "collapsed": false,
     "input": [
      "filename_in = '../data/qbo_has_payments.csv'\n",
      "qbo_table = pd.read_csv(filename_in)"
     ],
     "language": "python",
     "metadata": {},
     "outputs": [],
     "prompt_number": 3
    }
   ],
   "metadata": {}
  }
 ]
}