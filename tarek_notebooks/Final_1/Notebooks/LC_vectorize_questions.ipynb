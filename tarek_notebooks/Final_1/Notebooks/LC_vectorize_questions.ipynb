{
 "metadata": {
  "name": "",
  "signature": "sha256:980ef31d0ddce734d7d2d9ccd85e928e5b362c0dc0f47c33e9ed9623d13e6bd0"
 },
 "nbformat": 3,
 "nbformat_minor": 0,
 "worksheets": [
  {
   "cells": [
    {
     "cell_type": "heading",
     "level": 1,
     "metadata": {},
     "source": [
      "Import Necessary Packages and Modules"
     ]
    },
    {
     "cell_type": "code",
     "collapsed": false,
     "input": [
      "from __future__ import print_function\n",
      "\n",
      "import numpy as np\n",
      "import pandas as pd"
     ],
     "language": "python",
     "metadata": {},
     "outputs": [],
     "prompt_number": 2
    },
    {
     "cell_type": "heading",
     "level": 1,
     "metadata": {},
     "source": [
      "Load Live Community Questions"
     ]
    },
    {
     "cell_type": "code",
     "collapsed": false,
     "input": [
      "posts_table = pd.read_csv('../data/ml_posts_1.csv')\n",
      "tags = posts_table[['cached_question_tag_list']]\n",
      "tags = np.array(tags).ravel()\n",
      "unique_tags = set(tags)\n",
      "\n",
      "tag_labels_dict={}\n",
      "tag_names=[]\n",
      "\n",
      "for tag_id, some_tag in enumerate(unique_tags):\n",
      "    tag_labels_dict[some_tag]=tag_id\n",
      "    tag_names.append(some_tag)\n",
      "\n",
      "tag_labels = [tag_labels_dict[post_label] for post_label in tags]"
     ],
     "language": "python",
     "metadata": {},
     "outputs": [],
     "prompt_number": 3
    },
    {
     "cell_type": "heading",
     "level": 1,
     "metadata": {},
     "source": [
      "Get Some Question Subjects"
     ]
    },
    {
     "cell_type": "code",
     "collapsed": false,
     "input": [
      "post_subjects = posts_table[['subject']][:4]\n",
      "subjects = np.array(post_subjects).ravel().tolist()"
     ],
     "language": "python",
     "metadata": {},
     "outputs": [],
     "prompt_number": 4
    },
    {
     "cell_type": "heading",
     "level": 1,
     "metadata": {},
     "source": [
      "Tokenize the Questions using Unigrams"
     ]
    },
    {
     "cell_type": "markdown",
     "metadata": {},
     "source": [
      "Q1. Create a (term, Frequency) tuple for each question?  "
     ]
    },
    {
     "cell_type": "code",
     "collapsed": false,
     "input": [
      "subjects"
     ],
     "language": "python",
     "metadata": {},
     "outputs": [
      {
       "metadata": {},
       "output_type": "pyout",
       "prompt_number": 5,
       "text": [
        "['Anyone receive an acceptep from IRS 2011 tax year?',\n",
        " 'Can everyone please post Time and Date- Filed, Accepted/Rejected, Date of Pay, ANY States POST Which States Please!',\n",
        " 'has anyone else received letter 4883c from irs?? if so how long did if take to get your money afterward??',\n",
        " 'Claim as dependant']"
       ]
      }
     ],
     "prompt_number": 5
    },
    {
     "cell_type": "code",
     "collapsed": false,
     "input": [
      "from collections import Counter\n",
      "Counter(['Anyone','receive','Anyone','IRS'])"
     ],
     "language": "python",
     "metadata": {},
     "outputs": [
      {
       "metadata": {},
       "output_type": "pyout",
       "prompt_number": 8,
       "text": [
        "Counter({'Anyone': 2, 'receive': 1, 'IRS': 1})"
       ]
      }
     ],
     "prompt_number": 8
    },
    {
     "cell_type": "code",
     "collapsed": false,
     "input": [
      "'Anyone receive an acceptep from IRS 2011 tax year?'.split()"
     ],
     "language": "python",
     "metadata": {},
     "outputs": [
      {
       "metadata": {},
       "output_type": "pyout",
       "prompt_number": 7,
       "text": [
        "['Anyone', 'receive', 'an', 'acceptep', 'from', 'IRS', '2011', 'tax', 'year?']"
       ]
      }
     ],
     "prompt_number": 7
    },
    {
     "cell_type": "code",
     "collapsed": false,
     "input": [
      "[subject for subject in subjects]"
     ],
     "language": "python",
     "metadata": {},
     "outputs": [
      {
       "metadata": {},
       "output_type": "pyout",
       "prompt_number": 9,
       "text": [
        "['Anyone receive an acceptep from IRS 2011 tax year?',\n",
        " 'Can everyone please post Time and Date- Filed, Accepted/Rejected, Date of Pay, ANY States POST Which States Please!',\n",
        " 'has anyone else received letter 4883c from irs?? if so how long did if take to get your money afterward??',\n",
        " 'Claim as dependant']"
       ]
      }
     ],
     "prompt_number": 9
    },
    {
     "cell_type": "code",
     "collapsed": false,
     "input": [
      "subjects_tokenized = [subject.split() for subject in subjects]\n",
      "term_freq = [Counter(tokens).items() for tokens in subjects_tokenized]\n",
      "term_freq[2]"
     ],
     "language": "python",
     "metadata": {},
     "outputs": [
      {
       "metadata": {},
       "output_type": "pyout",
       "prompt_number": 13,
       "text": [
        "[('your', 1),\n",
        " ('received', 1),\n",
        " ('from', 1),\n",
        " ('afterward??', 1),\n",
        " ('to', 1),\n",
        " ('did', 1),\n",
        " ('money', 1),\n",
        " ('4883c', 1),\n",
        " ('long', 1),\n",
        " ('else', 1),\n",
        " ('anyone', 1),\n",
        " ('how', 1),\n",
        " ('so', 1),\n",
        " ('take', 1),\n",
        " ('letter', 1),\n",
        " ('get', 1),\n",
        " ('has', 1),\n",
        " ('irs??', 1),\n",
        " ('if', 2)]"
       ]
      }
     ],
     "prompt_number": 13
    },
    {
     "cell_type": "markdown",
     "metadata": {},
     "source": [
      "Q2. Generate a Global mapping between each unique word mentioned in the questions and some unique integer. For example: feature_names_maping = {u'2011': 0,\n",
      " u'4883c': 1,\n",
      "...\n",
      " u'any': 7}."
     ]
    },
    {
     "cell_type": "code",
     "collapsed": false,
     "input": [
      "master_list = [['word1','word2','word3'],\n",
      "['word1','word5','word10']]\n",
      "\n",
      "unique_words = set()\n",
      "for some_list in master_list:\n",
      "    unique_words.update(some_list)\n",
      "\n",
      "unique_words"
     ],
     "language": "python",
     "metadata": {},
     "outputs": [
      {
       "metadata": {},
       "output_type": "pyout",
       "prompt_number": 14,
       "text": [
        "{'word1', 'word10', 'word2', 'word3', 'word5'}"
       ]
      }
     ],
     "prompt_number": 14
    },
    {
     "cell_type": "markdown",
     "metadata": {},
     "source": [
      "Q3. For each question subject, apply the mapping to the corresponding (term, freq) to get (term_id, freq). For example, for the first question we would \n",
      "[1, 0, 0, 1, 0, 1, 0, 0, 1, 0, 0, 0, 0, 0, 0, 0, 0, 0, 1, 0, 0, 0,\n",
      "        0, 1, 0, 0, 0, 0, 0, 0, 0, 1, 0, 0, 0, 0, 0, 1, 0, 0, 0, 1, 0]"
     ]
    },
    {
     "cell_type": "code",
     "collapsed": false,
     "input": [],
     "language": "python",
     "metadata": {},
     "outputs": [],
     "prompt_number": 3
    },
    {
     "cell_type": "heading",
     "level": 1,
     "metadata": {},
     "source": [
      "How to tokenize using 'sklearn'"
     ]
    },
    {
     "cell_type": "code",
     "collapsed": false,
     "input": [],
     "language": "python",
     "metadata": {},
     "outputs": [],
     "prompt_number": 3
    },
    {
     "cell_type": "code",
     "collapsed": false,
     "input": [
      "test_question = ['has anyone else received letter 4883c from irs?? if so how long did if take to get your money afterward??']"
     ],
     "language": "python",
     "metadata": {},
     "outputs": [],
     "prompt_number": 4
    },
    {
     "cell_type": "code",
     "collapsed": false,
     "input": [],
     "language": "python",
     "metadata": {},
     "outputs": [],
     "prompt_number": 4
    },
    {
     "cell_type": "code",
     "collapsed": false,
     "input": [],
     "language": "python",
     "metadata": {},
     "outputs": [],
     "prompt_number": 4
    },
    {
     "cell_type": "code",
     "collapsed": false,
     "input": [],
     "language": "python",
     "metadata": {},
     "outputs": []
    }
   ],
   "metadata": {}
  }
 ]
}