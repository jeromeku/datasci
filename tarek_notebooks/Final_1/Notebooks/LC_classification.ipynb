{
 "metadata": {
  "name": "",
  "signature": "sha256:5a83ed72b95f79c4ce9148658ffd1dd88dc34e743fdc32181193e37e237b56d2"
 },
 "nbformat": 3,
 "nbformat_minor": 0,
 "worksheets": [
  {
   "cells": [
    {
     "cell_type": "heading",
     "level": 1,
     "metadata": {},
     "source": [
      "Import Necessary Packages and Modules"
     ]
    },
    {
     "cell_type": "code",
     "collapsed": false,
     "input": [
      "%matplotlib inline\n",
      "\n",
      "from __future__ import print_function\n",
      "\n",
      "\n",
      "\n",
      "import matplotlib.pyplot as plt\n",
      "\n",
      "from sklearn.cross_validation import train_test_split\n",
      "from sklearn.feature_extraction.text import TfidfVectorizer, CountVectorizer\n",
      "\n",
      "\n",
      "from sklearn.metrics import classification_report\n",
      "from sklearn.svm import LinearSVC\n",
      "\n",
      "import numpy as np\n",
      "import pandas as pd\n",
      "\n",
      "\n",
      "from IPython.display import Image\n",
      "from wordcloud import WordCloud\n",
      "\n",
      "\n"
     ],
     "language": "python",
     "metadata": {},
     "outputs": [],
     "prompt_number": 1
    },
    {
     "cell_type": "heading",
     "level": 1,
     "metadata": {},
     "source": [
      "Load Live Community Questions"
     ]
    },
    {
     "cell_type": "code",
     "collapsed": false,
     "input": [
      "posts_table = pd.read_csv('../data/ml_posts_1.csv')\n",
      "tags = posts_table[['cached_question_tag_list']]\n",
      "tags = np.array(tags).ravel()\n",
      "unique_tags = set(tags)\n",
      "\n",
      "tag_labels_dict={}\n",
      "tag_names=[]\n",
      "\n",
      "for tag_id, some_tag in enumerate(unique_tags):\n",
      "    tag_labels_dict[some_tag]=tag_id\n",
      "    tag_names.append(some_tag)\n",
      "\n",
      "tag_labels = [tag_labels_dict[post_label] for post_label in tags]"
     ],
     "language": "python",
     "metadata": {},
     "outputs": [],
     "prompt_number": 2
    },
    {
     "cell_type": "heading",
     "level": 1,
     "metadata": {},
     "source": [
      "Split LC Questions into Training and Testing sets"
     ]
    },
    {
     "cell_type": "code",
     "collapsed": false,
     "input": [
      "post_subjects = posts_table[['subject']]\n",
      "subjects = np.array(post_subjects).ravel()\n",
      "subjects_train, subjects_test, tag_labels_train, tag_labels_test = train_test_split(\n",
      "   subjects, tag_labels, test_size=0.25)"
     ],
     "language": "python",
     "metadata": {},
     "outputs": [],
     "prompt_number": 3
    },
    {
     "cell_type": "heading",
     "level": 1,
     "metadata": {},
     "source": [
      "Extracting features from the LiveCommunity Questions"
     ]
    },
    {
     "cell_type": "code",
     "collapsed": false,
     "input": [
      "\n",
      "\n",
      "print (\"Extracting features from the LiveCommunity Questions\")\n",
      "# vectorizer = TfidfVectorizer(max_df=0.99, min_df=2,  ngram_range=(1, 1),\n",
      "#                              stop_words='english')\n",
      "vectorizer = CountVectorizer(max_df=0.99, min_df=2,  ngram_range=(1, 1)\n",
      "                             )\n",
      "X_train = vectorizer.fit_transform(subjects_train)\n",
      "X_test = vectorizer.transform(subjects_test)\n",
      "\n",
      "feature_names = vectorizer.get_feature_names()\n",
      "n_samples, n_features = X_train.shape\n",
      "\n",
      "\n",
      "\n",
      "# the label to predict is the id of tag\n",
      "y_train = tag_labels_train\n",
      "y_test = tag_labels_test\n",
      "target_names = tag_names\n",
      "n_classes = len(tag_names)\n",
      "\n",
      "print(\"Total Training dataset size:\")\n",
      "print(\"n_samples: %d\" % n_samples)\n",
      "print(\"n_features: %d\" % n_features)\n",
      "print(\"n_classes: %d\" % n_classes)\n",
      "\n"
     ],
     "language": "python",
     "metadata": {},
     "outputs": [
      {
       "output_type": "stream",
       "stream": "stdout",
       "text": [
        "Extracting features from the LiveCommunity Questions\n",
        "Total Training dataset size:"
       ]
      },
      {
       "output_type": "stream",
       "stream": "stdout",
       "text": [
        "\n",
        "n_samples: 14934\n",
        "n_features: 4223\n",
        "n_classes: 10\n"
       ]
      }
     ],
     "prompt_number": 4
    },
    {
     "cell_type": "heading",
     "level": 1,
     "metadata": {},
     "source": [
      "Train Support Vector Machine (SVM) Classifier"
     ]
    },
    {
     "cell_type": "code",
     "collapsed": false,
     "input": [
      "###############################################################################\n",
      "# Train a SVM classification model\n",
      "\n",
      "clf = LinearSVC(penalty=\"l1\", dual=False, tol=1e-3, C=0.1)\n",
      "clf = clf.fit(X_train, y_train)\n",
      "y_pred = clf.predict(X_test)\n"
     ],
     "language": "python",
     "metadata": {},
     "outputs": [],
     "prompt_number": 5
    },
    {
     "cell_type": "heading",
     "level": 1,
     "metadata": {},
     "source": [
      "Qualitative Evaluation of the Predictions "
     ]
    },
    {
     "cell_type": "code",
     "collapsed": false,
     "input": [
      "def show_examples(num_questions, y_test, y_pred, target_names):\n",
      "    for ind_ques in range(num_questions):\n",
      "        this_match='-'\n",
      "        if y_test[ind_ques]==y_pred[ind_ques]:\n",
      "            this_match='+'\n",
      "        print('\\n'*2)\n",
      "        print('='*80)\n",
      "\n",
      "        print('{:<13} {}'.format('LiveCommunity Question:',this_match*40))\n",
      "        print()\n",
      "        print(subjects_test[ind_ques])\n",
      "        print('{:<13}:{}'.format('Predicted Tag',target_names[y_pred[ind_ques]]))\n",
      "        print('{:<13}:{}'.format('True Tag',target_names[y_test[ind_ques]]))\n",
      "    "
     ],
     "language": "python",
     "metadata": {},
     "outputs": [],
     "prompt_number": 6
    },
    {
     "cell_type": "code",
     "collapsed": false,
     "input": [
      "num_questions=20\n",
      "show_examples(num_questions, y_test, y_pred, target_names)\n",
      "    "
     ],
     "language": "python",
     "metadata": {},
     "outputs": [
      {
       "output_type": "stream",
       "stream": "stdout",
       "text": [
        "\n",
        "\n",
        "\n",
        "================================================================================\n",
        "LiveCommunity Question: ----------------------------------------\n",
        "\n",
        "In turbotax business, where do I enter cash distributions to partners\n",
        "Predicted Tag:self-employment (schedule c)\n",
        "True Tag     :business\n",
        "\n",
        "\n",
        "\n",
        "================================================================================\n",
        "LiveCommunity Question: ++++++++++++++++++++++++++++++++++++++++\n",
        "\n",
        "This is supposed to be FREE. Why am I being charged for Federal Return?\n",
        "Predicted Tag:electronic filing\n",
        "True Tag     :electronic filing\n",
        "\n",
        "\n",
        "\n",
        "================================================================================\n",
        "LiveCommunity Question: ++++++++++++++++++++++++++++++++++++++++\n",
        "\n",
        "Filing Head of House\n",
        "Predicted Tag:dependents\n",
        "True Tag     :dependents\n",
        "\n",
        "\n",
        "\n",
        "================================================================================\n",
        "LiveCommunity Question: ----------------------------------------\n",
        "\n",
        "How to enter foreign income as business income on Schedule C and how to claim foreign tax credit on foreign tax withheld on 1116?\n",
        "Predicted Tag:credits\n",
        "True Tag     :self-employment (schedule c)\n",
        "\n",
        "\n",
        "\n",
        "================================================================================\n",
        "LiveCommunity Question: ----------------------------------------\n",
        "\n",
        "if i had $0 income but took loans and scholarships for grad school will i get a refund?\n",
        "Predicted Tag:education expenses\n",
        "True Tag     :electronic filing\n",
        "\n",
        "\n",
        "\n",
        "================================================================================\n",
        "LiveCommunity Question: ----------------------------------------\n",
        "\n",
        "How do I TTax a partial year form 1065 followed by a partial year form 1120s?\n",
        "Predicted Tag:electronic filing\n",
        "True Tag     :self-employment (schedule c)\n",
        "\n",
        "\n",
        "\n",
        "================================================================================\n",
        "LiveCommunity Question: ++++++++++++++++++++++++++++++++++++++++\n",
        "\n",
        "Because its question was worded inexactly, TurboTax failed to tick the 1099-R \"RMD\" box on Form 1040, even though my distribution was the required minimum distribution\n",
        "Predicted Tag:retirement\n",
        "True Tag     :retirement\n",
        "\n",
        "\n",
        "\n",
        "================================================================================\n",
        "LiveCommunity Question: ++++++++++++++++++++++++++++++++++++++++\n",
        "\n",
        "why are they charging me to file my state return\n",
        "Predicted Tag:electronic filing\n",
        "True Tag     :electronic filing\n",
        "\n",
        "\n",
        "\n",
        "================================================================================\n",
        "LiveCommunity Question: ++++++++++++++++++++++++++++++++++++++++\n",
        "\n",
        "i hoese maintain and pet sit but didnt get any forms was always paid in cash; what can i do\n",
        "Predicted Tag:self-employment (schedule c)\n",
        "True Tag     :self-employment (schedule c)\n",
        "\n",
        "\n",
        "\n",
        "================================================================================\n",
        "LiveCommunity Question: ----------------------------------------\n",
        "\n",
        "How did our Idenity info get leaked??  You need to shut down and find who in your organization is leaking info or using peoples info for there own gain.\n",
        "Predicted Tag:dependents\n",
        "True Tag     :irs\n",
        "\n",
        "\n",
        "\n",
        "================================================================================\n",
        "LiveCommunity Question: ----------------------------------------\n",
        "\n",
        "IRA rollover...\n",
        "Predicted Tag:retirement\n",
        "True Tag     :print\n",
        "\n",
        "\n",
        "\n",
        "================================================================================\n",
        "LiveCommunity Question: ++++++++++++++++++++++++++++++++++++++++\n",
        "\n",
        "I bought a car in May 2012 and they did a least to own so my payments would be less. Can I still deduct car registration fees?\n",
        "Predicted Tag:credits\n",
        "True Tag     :credits\n",
        "\n",
        "\n",
        "\n",
        "================================================================================\n",
        "LiveCommunity Question: ++++++++++++++++++++++++++++++++++++++++\n",
        "\n",
        "1099-MISC for tutoring. Can I only file for 1099 for self-employee section? I only have premier turbo tax cd. How would i file schedule c if necessary?\n",
        "Predicted Tag:self-employment (schedule c)\n",
        "True Tag     :self-employment (schedule c)\n",
        "\n",
        "\n",
        "\n",
        "================================================================================\n",
        "LiveCommunity Question: ----------------------------------------\n",
        "\n",
        "Why aren't my Common Business Expenses totaling correctly after I made corrections\n",
        "Predicted Tag:self-employment (schedule c)\n",
        "True Tag     :business\n",
        "\n",
        "\n",
        "\n",
        "================================================================================\n",
        "LiveCommunity Question: ----------------------------------------\n",
        "\n",
        "someone else used my ssn what do i do?\n",
        "Predicted Tag:dependents\n",
        "True Tag     :electronic filing\n",
        "\n",
        "\n",
        "\n",
        "================================================================================\n",
        "LiveCommunity Question: ----------------------------------------\n",
        "\n",
        "Car and Truck Expenses Worksheet (AND ALSO FORM 8824)  -- HELP!\n",
        "Predicted Tag:electronic filing\n",
        "True Tag     :self-employment (schedule c)\n",
        "\n",
        "\n",
        "\n",
        "================================================================================\n",
        "LiveCommunity Question: ++++++++++++++++++++++++++++++++++++++++\n",
        "\n",
        "WHY IAM I BEING CHARGED THOUGHT IT WAS FREE\n",
        "Predicted Tag:electronic filing\n",
        "True Tag     :electronic filing\n",
        "\n",
        "\n",
        "\n",
        "================================================================================\n",
        "LiveCommunity Question: ----------------------------------------\n",
        "\n",
        "I am filing MFS this year. We are separated, not divorced. My husband pays me 1/2 of his companies pension check every month. How do I report that as income on my return.\n",
        "Predicted Tag:retirement\n",
        "True Tag     :dependents\n",
        "\n",
        "\n",
        "\n",
        "================================================================================\n",
        "LiveCommunity Question: ++++++++++++++++++++++++++++++++++++++++\n",
        "\n",
        "Amending my tax return to include my Educational expenses/1098-t from college. However, this new information does not change the $523 (as shown in turbotax) I got from my initial return. Will I recieve no refund for amending my educational info?\n",
        "Predicted Tag:education expenses\n",
        "True Tag     :education expenses\n",
        "\n",
        "\n",
        "\n",
        "================================================================================\n",
        "LiveCommunity Question: ++++++++++++++++++++++++++++++++++++++++\n",
        "\n",
        "Can I file electronically if I did not file a 2010 return\n",
        "Predicted Tag:electronic filing\n",
        "True Tag     :electronic filing\n"
       ]
      }
     ],
     "prompt_number": 7
    },
    {
     "cell_type": "heading",
     "level": 1,
     "metadata": {},
     "source": [
      "Quantitative evaluation of the model quality on the test set"
     ]
    },
    {
     "cell_type": "code",
     "collapsed": false,
     "input": [
      "print(classification_report(y_test, y_pred, target_names=target_names))\n"
     ],
     "language": "python",
     "metadata": {},
     "outputs": [
      {
       "output_type": "stream",
       "stream": "stdout",
       "text": [
        "                              precision    recall  f1-score   support\n",
        "\n",
        "                  retirement       0.75      0.79      0.77       347\n",
        "                    business       0.47      0.16      0.24       174\n",
        "           electronic filing       0.64      0.83      0.72      1284\n",
        "                         irs       0.56      0.38      0.46       201\n",
        "                     credits       0.67      0.43      0.52       297\n",
        "self-employment (schedule c)       0.62      0.64      0.63       469\n",
        "          education expenses       0.74      0.61      0.67       165\n",
        "                       print       0.75      0.45      0.56       272\n",
        "                  dependents       0.72      0.75      0.73      1270\n",
        "                 investments       0.79      0.72      0.75       499\n",
        "\n",
        "                 avg / total       0.68      0.68      0.67      4978\n",
        "\n"
       ]
      }
     ],
     "prompt_number": 8
    },
    {
     "cell_type": "heading",
     "level": 1,
     "metadata": {},
     "source": [
      "Visualize Indicative Class Features"
     ]
    },
    {
     "cell_type": "code",
     "collapsed": false,
     "input": [
      "weights = clf.coef_\n",
      "frequencies=X_train.sum(axis=0).tolist()[0]\n",
      "def get_indicative_features(feat_weights):\n",
      "    ind_sorted_feature_weights = feat_weights.argsort()[::-1]\n",
      "    indicative_feats = []\n",
      "    for ind in ind_sorted_feature_weights:\n",
      "        if abs(feat_weights[ind])<0.0001:\n",
      "            break\n",
      "        indicative_feats.append((feature_names[ind],frequencies[ind],feat_weights[ind]))\n",
      "    return indicative_feats\n",
      "\n",
      "class_and_indicative_feats = []       \n",
      "for ind_class, class_name in enumerate(target_names):\n",
      "    current_class_weigts = weights[ind_class]\n",
      "    indicative_feats = get_indicative_features(current_class_weigts)\n",
      "    class_and_indicative_feats.append((class_name,indicative_feats))\n",
      "\n"
     ],
     "language": "python",
     "metadata": {},
     "outputs": [],
     "prompt_number": 9
    },
    {
     "cell_type": "code",
     "collapsed": false,
     "input": [
      "class_index = 2\n",
      "class_name, feat_info = class_and_indicative_feats[class_index]\n",
      "\n",
      "words = [(word, score) for word,score,_ in feat_info]\n",
      "# Compute the position of the words.\n",
      "wc = WordCloud(background_color=\"white\", max_words=2000)\n",
      "wc.fit_words(words)\n",
      "# elements = wordcloud.fit_words(words, )\n",
      "# Draw the positioned words to a PNG file.\n",
      "wc.to_file('test.png')\n",
      "print(class_name)\n",
      "Image('test.png')"
     ],
     "language": "python",
     "metadata": {},
     "outputs": [
      {
       "output_type": "stream",
       "stream": "stdout",
       "text": [
        "electronic filing\n"
       ]
      },
      {
       "metadata": {},
       "output_type": "pyout",
       "png": "[encoded data removed]",
       "prompt_number": 10,
       "text": [
        "<IPython.core.display.Image at 0x7ffe41414a10>"
       ]
      }
     ],
     "prompt_number": 10
    },
    {
     "cell_type": "heading",
     "level": 1,
     "metadata": {},
     "source": [
      "Excercise"
     ]
    },
    {
     "cell_type": "markdown",
     "metadata": {},
     "source": [
      "\n",
      "1. Go to https://ttlc.intuit.com/tags \n",
      "2. Click on a tag from one of these tags: Retirement, business, electronic\n",
      "filing, credits, self-employment (schedule c), education expenses, dependents, investments, print. \n",
      "3. Click on any of the questions posted under this tag.\n",
      "4. Use the Classifier we trained in this Live Community study to tag the question.\n",
      "Does the tag our classifier produced in one of the tags of the original questions?"
     ]
    },
    {
     "cell_type": "code",
     "collapsed": false,
     "input": [
      "#enter your question here\n",
      "#some_question = ['Does my 401K contributions showing on my W2 qualify as a retirement contributions expense?']"
     ],
     "language": "python",
     "metadata": {},
     "outputs": [],
     "prompt_number": 44
    }
   ],
   "metadata": {}
  }
 ]
}