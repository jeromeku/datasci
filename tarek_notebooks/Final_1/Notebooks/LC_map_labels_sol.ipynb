{
 "metadata": {
  "name": "",
  "signature": "sha256:1959554aa1be9370ab7cf6625524c250f88738faa0e4dc5213827068e0b3ef0d"
 },
 "nbformat": 3,
 "nbformat_minor": 0,
 "worksheets": [
  {
   "cells": [
    {
     "cell_type": "heading",
     "level": 1,
     "metadata": {},
     "source": [
      "Import Necessary Packages and Modules"
     ]
    },
    {
     "cell_type": "code",
     "collapsed": false,
     "input": [
      "from __future__ import print_function\n",
      "\n",
      "import numpy as np\n",
      "import pandas as pd\n",
      "\n",
      "\n",
      "from IPython.display import Image"
     ],
     "language": "python",
     "metadata": {},
     "outputs": [],
     "prompt_number": 1
    },
    {
     "cell_type": "heading",
     "level": 1,
     "metadata": {},
     "source": [
      "Load Live Community Questions"
     ]
    },
    {
     "cell_type": "code",
     "collapsed": false,
     "input": [
      "posts_table = pd.read_csv('../data/ml_posts_1.csv')"
     ],
     "language": "python",
     "metadata": {},
     "outputs": [],
     "prompt_number": 2
    },
    {
     "cell_type": "heading",
     "level": 1,
     "metadata": {},
     "source": [
      "Create Label mappings"
     ]
    },
    {
     "cell_type": "markdown",
     "metadata": {},
     "source": [
      " 'cached_question_tag_list' in posts_table contains the labels of each question. We need to map each string label to a unique integer. Create a mapping, that maps each unique label in 'cached_question_tag_list' to a unique integer, for example:\n",
      " tag_labels_dict = {'business': 1,\n",
      " 'credits': 4,\n",
      "    ...\n",
      " 'self-employment (schedule c)': 5}\n",
      " \n",
      " Apply this mapping to 'cached_question_tag_list' to obtain the corresponding integer mapings, for example:\n",
      " tag_labels=[2, 2, ..., 3]."
     ]
    },
    {
     "cell_type": "heading",
     "level": 1,
     "metadata": {},
     "source": [
      "Solution"
     ]
    },
    {
     "cell_type": "code",
     "collapsed": false,
     "input": [
      "tags = posts_table[['cached_question_tag_list']]\n",
      "tags = np.array(tags).ravel()\n",
      "unique_tags = set(tags)\n",
      "\n",
      "tag_names = list(unique_tags)\n",
      "tag_labels_dict = dict([(tag, id) for id, tag in enumerate(tag_names)])\n",
      "\n",
      "tag_labels = [tag_labels_dict[post_label] for post_label in tags]\n"
     ],
     "language": "python",
     "metadata": {},
     "outputs": [],
     "prompt_number": 3
    }
   ],
   "metadata": {}
  }
 ]
}