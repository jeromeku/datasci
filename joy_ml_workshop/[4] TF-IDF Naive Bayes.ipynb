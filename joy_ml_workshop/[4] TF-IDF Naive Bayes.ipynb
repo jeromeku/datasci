{
 "metadata": {
  "name": ""
 },
 "nbformat": 3,
 "nbformat_minor": 0,
 "worksheets": [
  {
   "cells": [
    {
     "cell_type": "heading",
     "level": 1,
     "metadata": {},
     "source": [
      "Compute Term Frequence Inverse Document Frequency"
     ]
    },
    {
     "cell_type": "raw",
     "metadata": {},
     "source": [
      "Exercise 4.1: We will use the corpora from the last exercise to compute TF-IDF. First, load corpora from files using pickle"
     ]
    },
    {
     "cell_type": "code",
     "collapsed": false,
     "input": [
      "import pickle\n",
      "with open('./ted_mini/art_corpus.pkl', 'r') as f: \n",
      "    art_corpus = pickle.load(f)\n",
      "\n",
      "with open('./ted_mini/sci_corpus.pkl', 'r') as g: \n",
      "    sci_corpus = pickle.load(g)"
     ],
     "language": "python",
     "metadata": {},
     "outputs": [],
     "prompt_number": 3
    },
    {
     "cell_type": "raw",
     "metadata": {},
     "source": [
      "Exercise 4.2: \n",
      "Term Frequency counts number of time tokens appear in a document normalized by total number of words in document. \n",
      "Document Frequency counts number of documents containing a token normalized by total number of documents.\n",
      "\n",
      "Write functions that compute TF-IDF"
     ]
    },
    {
     "cell_type": "code",
     "collapsed": false,
     "input": [],
     "language": "python",
     "metadata": {},
     "outputs": []
    },
    {
     "cell_type": "raw",
     "metadata": {},
     "source": [
      "Exercise 4.3: \n",
      "Compute average TFIDF of token \n",
      "    'brain', \n",
      "    'gene', \n",
      "    'dream', \n",
      "    'energy',\n",
      "    'draw'\n",
      "in art_corpus and in sci_corpus"
     ]
    },
    {
     "cell_type": "code",
     "collapsed": false,
     "input": [],
     "language": "python",
     "metadata": {},
     "outputs": []
    }
   ],
   "metadata": {}
  }
 ]
}